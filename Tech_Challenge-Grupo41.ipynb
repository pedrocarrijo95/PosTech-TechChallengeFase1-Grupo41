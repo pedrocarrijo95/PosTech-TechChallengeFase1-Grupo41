{
  "nbformat": 4,
  "nbformat_minor": 0,
  "metadata": {
    "colab": {
      "provenance": []
    },
    "kernelspec": {
      "name": "python3",
      "display_name": "Python 3"
    },
    "language_info": {
      "name": "python"
    }
  },
  "cells": [
    {
      "cell_type": "markdown",
      "source": [
        "Você é um profissional encarregado de desenvolver um modelo preditivo de regressão para prever o valor dos custos médicos individuais cobrados pelo seguro de saúde.\n",
        "A base de dados para este desafio pode ser algo como no exemplo a seguir:\n",
        "\n",
        "---\n",
        "\n",
        "idade,gênero,imc,filhos,fumante,região,encargos\n",
        "56,feminino,29.774373714007336,2,sim,sudoeste,31109.889763423336\n",
        "46,masculino,25.857394655216346,1,não,nordeste,26650.702646642694\n",
        "32,masculino,23.014839993647488,0,não,sudoeste,21459.03799039332\n",
        "\n",
        "---\n",
        "\n",
        "Você precisa apenas alimentar ela com mais informações ou utilizar uma outra de sua preferência.\n",
        "\n",
        "\n",
        "# Tarefas:\n",
        "\n",
        "**Exploracão de dados:**\n",
        "\n",
        "Carregue a base de dados e explore suas características.\n",
        "\n",
        "Analise estatísticas descritivas e visualize distribuicões relevantes.\n",
        "\n",
        "**Pré-processamento de dados:**\n",
        "\n",
        "Realize a limpeza dos dados, tratando valores ausentes (se necessário).\n",
        "\n",
        "Converta variáveis categóricas em formatos adequados para modelagem.\n",
        "\n",
        "**Modelagem:**\n",
        "\n",
        "Crie um modelo preditivo de regressão utilizando uma técnica à sua escolhe (por exemplo, Regressão Linear, Árvore de Decisão, etc).\n",
        "\n",
        "**Treinamento e avaliacão do modelo:**\n",
        "\n",
        "Treine o modelo com o conjunto de treinamento\n",
        "\n",
        "**Validacão estatística:**\n",
        "\n",
        "Utilize métricas estatísticas para validar a eficacácia do modelo (p-value, intervalos de confianca).\n",
        "\n",
        "**O que avaliaremos:**\n",
        "\n",
        "Apresente resultados visuais, como gráficos de previsões vs valores reais.\n",
        "\n",
        "Elabore um relatório que inclua uma análise dos resultados, insights obtidos e validacão estatística.\n",
        "\n",
        "**Observacões:**\n",
        "\n",
        "Esperamos que o modelo seja capaz de fazer previsões confiáveis dos custos médicos individuais com base nas características fornecidas.\n",
        "\n",
        "\n",
        "        "
      ],
      "metadata": {
        "id": "JjAv1pz-MmNx"
      }
    },
    {
      "cell_type": "markdown",
      "source": [
        "Importamos nossas bibliotecas e carregamos nosso dados.csv"
      ],
      "metadata": {
        "id": "8sm3s9-nUSM8"
      }
    },
    {
      "cell_type": "code",
      "source": [
        "import pandas as pd\n",
        "import numpy as np\n",
        "import missingno as msno\n",
        "import matplotlib.pyplot as plt"
      ],
      "metadata": {
        "id": "GLtWA3ORPtrO"
      },
      "execution_count": 27,
      "outputs": []
    },
    {
      "cell_type": "code",
      "source": [
        "df = pd.read_csv('./dados.csv') #Carrego documento\n",
        "df.head(10) #Mostro os top 10"
      ],
      "metadata": {
        "colab": {
          "base_uri": "https://localhost:8080/",
          "height": 363
        },
        "id": "80uvGY2zP4ys",
        "outputId": "35dbdc1c-5267-47bf-8b01-23a1de997f55"
      },
      "execution_count": 28,
      "outputs": [
        {
          "output_type": "execute_result",
          "data": {
            "text/plain": [
              "   idade     gênero    imc  filhos fumante    região  encargos\n",
              "0     56   feminino  29.77       2     sim  sudoeste  31109.89\n",
              "1     46  masculino  25.86       1     não  nordeste  26650.70\n",
              "2     32  masculino  23.01       0     não  sudoeste  21459.04\n",
              "3     45   feminino  28.56       1     sim  nordeste  28455.23\n",
              "4     41  masculino  30.52       3     não  nordeste  34899.12\n",
              "5     33  masculino  26.50       2     não  nordeste  29089.66\n",
              "6     55   feminino  27.86       0     sim       sul  33507.86\n",
              "7     37  masculino  29.92       1     não       sul  31468.49\n",
              "8     62   feminino  24.36       2     não  nordeste  26165.81\n",
              "9     49  masculino  26.12       0     não  sudoeste  26587.33"
            ],
            "text/html": [
              "\n",
              "  <div id=\"df-a3fb9cd5-1a0c-4d7c-b433-6fb3242c167d\" class=\"colab-df-container\">\n",
              "    <div>\n",
              "<style scoped>\n",
              "    .dataframe tbody tr th:only-of-type {\n",
              "        vertical-align: middle;\n",
              "    }\n",
              "\n",
              "    .dataframe tbody tr th {\n",
              "        vertical-align: top;\n",
              "    }\n",
              "\n",
              "    .dataframe thead th {\n",
              "        text-align: right;\n",
              "    }\n",
              "</style>\n",
              "<table border=\"1\" class=\"dataframe\">\n",
              "  <thead>\n",
              "    <tr style=\"text-align: right;\">\n",
              "      <th></th>\n",
              "      <th>idade</th>\n",
              "      <th>gênero</th>\n",
              "      <th>imc</th>\n",
              "      <th>filhos</th>\n",
              "      <th>fumante</th>\n",
              "      <th>região</th>\n",
              "      <th>encargos</th>\n",
              "    </tr>\n",
              "  </thead>\n",
              "  <tbody>\n",
              "    <tr>\n",
              "      <th>0</th>\n",
              "      <td>56</td>\n",
              "      <td>feminino</td>\n",
              "      <td>29.77</td>\n",
              "      <td>2</td>\n",
              "      <td>sim</td>\n",
              "      <td>sudoeste</td>\n",
              "      <td>31109.89</td>\n",
              "    </tr>\n",
              "    <tr>\n",
              "      <th>1</th>\n",
              "      <td>46</td>\n",
              "      <td>masculino</td>\n",
              "      <td>25.86</td>\n",
              "      <td>1</td>\n",
              "      <td>não</td>\n",
              "      <td>nordeste</td>\n",
              "      <td>26650.70</td>\n",
              "    </tr>\n",
              "    <tr>\n",
              "      <th>2</th>\n",
              "      <td>32</td>\n",
              "      <td>masculino</td>\n",
              "      <td>23.01</td>\n",
              "      <td>0</td>\n",
              "      <td>não</td>\n",
              "      <td>sudoeste</td>\n",
              "      <td>21459.04</td>\n",
              "    </tr>\n",
              "    <tr>\n",
              "      <th>3</th>\n",
              "      <td>45</td>\n",
              "      <td>feminino</td>\n",
              "      <td>28.56</td>\n",
              "      <td>1</td>\n",
              "      <td>sim</td>\n",
              "      <td>nordeste</td>\n",
              "      <td>28455.23</td>\n",
              "    </tr>\n",
              "    <tr>\n",
              "      <th>4</th>\n",
              "      <td>41</td>\n",
              "      <td>masculino</td>\n",
              "      <td>30.52</td>\n",
              "      <td>3</td>\n",
              "      <td>não</td>\n",
              "      <td>nordeste</td>\n",
              "      <td>34899.12</td>\n",
              "    </tr>\n",
              "    <tr>\n",
              "      <th>5</th>\n",
              "      <td>33</td>\n",
              "      <td>masculino</td>\n",
              "      <td>26.50</td>\n",
              "      <td>2</td>\n",
              "      <td>não</td>\n",
              "      <td>nordeste</td>\n",
              "      <td>29089.66</td>\n",
              "    </tr>\n",
              "    <tr>\n",
              "      <th>6</th>\n",
              "      <td>55</td>\n",
              "      <td>feminino</td>\n",
              "      <td>27.86</td>\n",
              "      <td>0</td>\n",
              "      <td>sim</td>\n",
              "      <td>sul</td>\n",
              "      <td>33507.86</td>\n",
              "    </tr>\n",
              "    <tr>\n",
              "      <th>7</th>\n",
              "      <td>37</td>\n",
              "      <td>masculino</td>\n",
              "      <td>29.92</td>\n",
              "      <td>1</td>\n",
              "      <td>não</td>\n",
              "      <td>sul</td>\n",
              "      <td>31468.49</td>\n",
              "    </tr>\n",
              "    <tr>\n",
              "      <th>8</th>\n",
              "      <td>62</td>\n",
              "      <td>feminino</td>\n",
              "      <td>24.36</td>\n",
              "      <td>2</td>\n",
              "      <td>não</td>\n",
              "      <td>nordeste</td>\n",
              "      <td>26165.81</td>\n",
              "    </tr>\n",
              "    <tr>\n",
              "      <th>9</th>\n",
              "      <td>49</td>\n",
              "      <td>masculino</td>\n",
              "      <td>26.12</td>\n",
              "      <td>0</td>\n",
              "      <td>não</td>\n",
              "      <td>sudoeste</td>\n",
              "      <td>26587.33</td>\n",
              "    </tr>\n",
              "  </tbody>\n",
              "</table>\n",
              "</div>\n",
              "    <div class=\"colab-df-buttons\">\n",
              "\n",
              "  <div class=\"colab-df-container\">\n",
              "    <button class=\"colab-df-convert\" onclick=\"convertToInteractive('df-a3fb9cd5-1a0c-4d7c-b433-6fb3242c167d')\"\n",
              "            title=\"Convert this dataframe to an interactive table.\"\n",
              "            style=\"display:none;\">\n",
              "\n",
              "  <svg xmlns=\"http://www.w3.org/2000/svg\" height=\"24px\" viewBox=\"0 -960 960 960\">\n",
              "    <path d=\"M120-120v-720h720v720H120Zm60-500h600v-160H180v160Zm220 220h160v-160H400v160Zm0 220h160v-160H400v160ZM180-400h160v-160H180v160Zm440 0h160v-160H620v160ZM180-180h160v-160H180v160Zm440 0h160v-160H620v160Z\"/>\n",
              "  </svg>\n",
              "    </button>\n",
              "\n",
              "  <style>\n",
              "    .colab-df-container {\n",
              "      display:flex;\n",
              "      gap: 12px;\n",
              "    }\n",
              "\n",
              "    .colab-df-convert {\n",
              "      background-color: #E8F0FE;\n",
              "      border: none;\n",
              "      border-radius: 50%;\n",
              "      cursor: pointer;\n",
              "      display: none;\n",
              "      fill: #1967D2;\n",
              "      height: 32px;\n",
              "      padding: 0 0 0 0;\n",
              "      width: 32px;\n",
              "    }\n",
              "\n",
              "    .colab-df-convert:hover {\n",
              "      background-color: #E2EBFA;\n",
              "      box-shadow: 0px 1px 2px rgba(60, 64, 67, 0.3), 0px 1px 3px 1px rgba(60, 64, 67, 0.15);\n",
              "      fill: #174EA6;\n",
              "    }\n",
              "\n",
              "    .colab-df-buttons div {\n",
              "      margin-bottom: 4px;\n",
              "    }\n",
              "\n",
              "    [theme=dark] .colab-df-convert {\n",
              "      background-color: #3B4455;\n",
              "      fill: #D2E3FC;\n",
              "    }\n",
              "\n",
              "    [theme=dark] .colab-df-convert:hover {\n",
              "      background-color: #434B5C;\n",
              "      box-shadow: 0px 1px 3px 1px rgba(0, 0, 0, 0.15);\n",
              "      filter: drop-shadow(0px 1px 2px rgba(0, 0, 0, 0.3));\n",
              "      fill: #FFFFFF;\n",
              "    }\n",
              "  </style>\n",
              "\n",
              "    <script>\n",
              "      const buttonEl =\n",
              "        document.querySelector('#df-a3fb9cd5-1a0c-4d7c-b433-6fb3242c167d button.colab-df-convert');\n",
              "      buttonEl.style.display =\n",
              "        google.colab.kernel.accessAllowed ? 'block' : 'none';\n",
              "\n",
              "      async function convertToInteractive(key) {\n",
              "        const element = document.querySelector('#df-a3fb9cd5-1a0c-4d7c-b433-6fb3242c167d');\n",
              "        const dataTable =\n",
              "          await google.colab.kernel.invokeFunction('convertToInteractive',\n",
              "                                                    [key], {});\n",
              "        if (!dataTable) return;\n",
              "\n",
              "        const docLinkHtml = 'Like what you see? Visit the ' +\n",
              "          '<a target=\"_blank\" href=https://colab.research.google.com/notebooks/data_table.ipynb>data table notebook</a>'\n",
              "          + ' to learn more about interactive tables.';\n",
              "        element.innerHTML = '';\n",
              "        dataTable['output_type'] = 'display_data';\n",
              "        await google.colab.output.renderOutput(dataTable, element);\n",
              "        const docLink = document.createElement('div');\n",
              "        docLink.innerHTML = docLinkHtml;\n",
              "        element.appendChild(docLink);\n",
              "      }\n",
              "    </script>\n",
              "  </div>\n",
              "\n",
              "\n",
              "<div id=\"df-7be238dc-a352-4c2c-84ee-3a35c50ae4ec\">\n",
              "  <button class=\"colab-df-quickchart\" onclick=\"quickchart('df-7be238dc-a352-4c2c-84ee-3a35c50ae4ec')\"\n",
              "            title=\"Suggest charts\"\n",
              "            style=\"display:none;\">\n",
              "\n",
              "<svg xmlns=\"http://www.w3.org/2000/svg\" height=\"24px\"viewBox=\"0 0 24 24\"\n",
              "     width=\"24px\">\n",
              "    <g>\n",
              "        <path d=\"M19 3H5c-1.1 0-2 .9-2 2v14c0 1.1.9 2 2 2h14c1.1 0 2-.9 2-2V5c0-1.1-.9-2-2-2zM9 17H7v-7h2v7zm4 0h-2V7h2v10zm4 0h-2v-4h2v4z\"/>\n",
              "    </g>\n",
              "</svg>\n",
              "  </button>\n",
              "\n",
              "<style>\n",
              "  .colab-df-quickchart {\n",
              "      --bg-color: #E8F0FE;\n",
              "      --fill-color: #1967D2;\n",
              "      --hover-bg-color: #E2EBFA;\n",
              "      --hover-fill-color: #174EA6;\n",
              "      --disabled-fill-color: #AAA;\n",
              "      --disabled-bg-color: #DDD;\n",
              "  }\n",
              "\n",
              "  [theme=dark] .colab-df-quickchart {\n",
              "      --bg-color: #3B4455;\n",
              "      --fill-color: #D2E3FC;\n",
              "      --hover-bg-color: #434B5C;\n",
              "      --hover-fill-color: #FFFFFF;\n",
              "      --disabled-bg-color: #3B4455;\n",
              "      --disabled-fill-color: #666;\n",
              "  }\n",
              "\n",
              "  .colab-df-quickchart {\n",
              "    background-color: var(--bg-color);\n",
              "    border: none;\n",
              "    border-radius: 50%;\n",
              "    cursor: pointer;\n",
              "    display: none;\n",
              "    fill: var(--fill-color);\n",
              "    height: 32px;\n",
              "    padding: 0;\n",
              "    width: 32px;\n",
              "  }\n",
              "\n",
              "  .colab-df-quickchart:hover {\n",
              "    background-color: var(--hover-bg-color);\n",
              "    box-shadow: 0 1px 2px rgba(60, 64, 67, 0.3), 0 1px 3px 1px rgba(60, 64, 67, 0.15);\n",
              "    fill: var(--button-hover-fill-color);\n",
              "  }\n",
              "\n",
              "  .colab-df-quickchart-complete:disabled,\n",
              "  .colab-df-quickchart-complete:disabled:hover {\n",
              "    background-color: var(--disabled-bg-color);\n",
              "    fill: var(--disabled-fill-color);\n",
              "    box-shadow: none;\n",
              "  }\n",
              "\n",
              "  .colab-df-spinner {\n",
              "    border: 2px solid var(--fill-color);\n",
              "    border-color: transparent;\n",
              "    border-bottom-color: var(--fill-color);\n",
              "    animation:\n",
              "      spin 1s steps(1) infinite;\n",
              "  }\n",
              "\n",
              "  @keyframes spin {\n",
              "    0% {\n",
              "      border-color: transparent;\n",
              "      border-bottom-color: var(--fill-color);\n",
              "      border-left-color: var(--fill-color);\n",
              "    }\n",
              "    20% {\n",
              "      border-color: transparent;\n",
              "      border-left-color: var(--fill-color);\n",
              "      border-top-color: var(--fill-color);\n",
              "    }\n",
              "    30% {\n",
              "      border-color: transparent;\n",
              "      border-left-color: var(--fill-color);\n",
              "      border-top-color: var(--fill-color);\n",
              "      border-right-color: var(--fill-color);\n",
              "    }\n",
              "    40% {\n",
              "      border-color: transparent;\n",
              "      border-right-color: var(--fill-color);\n",
              "      border-top-color: var(--fill-color);\n",
              "    }\n",
              "    60% {\n",
              "      border-color: transparent;\n",
              "      border-right-color: var(--fill-color);\n",
              "    }\n",
              "    80% {\n",
              "      border-color: transparent;\n",
              "      border-right-color: var(--fill-color);\n",
              "      border-bottom-color: var(--fill-color);\n",
              "    }\n",
              "    90% {\n",
              "      border-color: transparent;\n",
              "      border-bottom-color: var(--fill-color);\n",
              "    }\n",
              "  }\n",
              "</style>\n",
              "\n",
              "  <script>\n",
              "    async function quickchart(key) {\n",
              "      const quickchartButtonEl =\n",
              "        document.querySelector('#' + key + ' button');\n",
              "      quickchartButtonEl.disabled = true;  // To prevent multiple clicks.\n",
              "      quickchartButtonEl.classList.add('colab-df-spinner');\n",
              "      try {\n",
              "        const charts = await google.colab.kernel.invokeFunction(\n",
              "            'suggestCharts', [key], {});\n",
              "      } catch (error) {\n",
              "        console.error('Error during call to suggestCharts:', error);\n",
              "      }\n",
              "      quickchartButtonEl.classList.remove('colab-df-spinner');\n",
              "      quickchartButtonEl.classList.add('colab-df-quickchart-complete');\n",
              "    }\n",
              "    (() => {\n",
              "      let quickchartButtonEl =\n",
              "        document.querySelector('#df-7be238dc-a352-4c2c-84ee-3a35c50ae4ec button');\n",
              "      quickchartButtonEl.style.display =\n",
              "        google.colab.kernel.accessAllowed ? 'block' : 'none';\n",
              "    })();\n",
              "  </script>\n",
              "</div>\n",
              "\n",
              "    </div>\n",
              "  </div>\n"
            ],
            "application/vnd.google.colaboratory.intrinsic+json": {
              "type": "dataframe",
              "variable_name": "df",
              "summary": "{\n  \"name\": \"df\",\n  \"rows\": 159,\n  \"fields\": [\n    {\n      \"column\": \"idade\",\n      \"properties\": {\n        \"dtype\": \"number\",\n        \"std\": 10,\n        \"min\": 27,\n        \"max\": 75,\n        \"num_unique_values\": 48,\n        \"samples\": [\n          57,\n          73,\n          38\n        ],\n        \"semantic_type\": \"\",\n        \"description\": \"\"\n      }\n    },\n    {\n      \"column\": \"g\\u00eanero\",\n      \"properties\": {\n        \"dtype\": \"category\",\n        \"num_unique_values\": 2,\n        \"samples\": [\n          \"masculino\",\n          \"feminino\"\n        ],\n        \"semantic_type\": \"\",\n        \"description\": \"\"\n      }\n    },\n    {\n      \"column\": \"imc\",\n      \"properties\": {\n        \"dtype\": \"number\",\n        \"std\": 1.7912051902993344,\n        \"min\": 22.95,\n        \"max\": 31.21,\n        \"num_unique_values\": 144,\n        \"samples\": [\n          25.66,\n          27.58\n        ],\n        \"semantic_type\": \"\",\n        \"description\": \"\"\n      }\n    },\n    {\n      \"column\": \"filhos\",\n      \"properties\": {\n        \"dtype\": \"number\",\n        \"std\": 1,\n        \"min\": 0,\n        \"max\": 3,\n        \"num_unique_values\": 4,\n        \"samples\": [\n          1,\n          3\n        ],\n        \"semantic_type\": \"\",\n        \"description\": \"\"\n      }\n    },\n    {\n      \"column\": \"fumante\",\n      \"properties\": {\n        \"dtype\": \"category\",\n        \"num_unique_values\": 2,\n        \"samples\": [\n          \"n\\u00e3o\",\n          \"sim\"\n        ],\n        \"semantic_type\": \"\",\n        \"description\": \"\"\n      }\n    },\n    {\n      \"column\": \"regi\\u00e3o\",\n      \"properties\": {\n        \"dtype\": \"category\",\n        \"num_unique_values\": 5,\n        \"samples\": [\n          \"nordeste\",\n          \"sudeste\"\n        ],\n        \"semantic_type\": \"\",\n        \"description\": \"\"\n      }\n    },\n    {\n      \"column\": \"encargos\",\n      \"properties\": {\n        \"dtype\": \"number\",\n        \"std\": 4103.217767416985,\n        \"min\": 21459.04,\n        \"max\": 40473.26,\n        \"num_unique_values\": 159,\n        \"samples\": [\n          26410.45,\n          34879.28\n        ],\n        \"semantic_type\": \"\",\n        \"description\": \"\"\n      }\n    }\n  ]\n}"
            }
          },
          "metadata": {},
          "execution_count": 28
        }
      ]
    },
    {
      "cell_type": "markdown",
      "source": [
        "# Vamos iniciar a análise exploratória e ver como nossos dados estão distribuidos!"
      ],
      "metadata": {
        "id": "4VS1TeGET_1I"
      }
    },
    {
      "cell_type": "code",
      "source": [
        "df.shape"
      ],
      "metadata": {
        "id": "8nf9-0ZkDaI-",
        "outputId": "1601397f-1f1e-49de-c50d-d1eae9e5c166",
        "colab": {
          "base_uri": "https://localhost:8080/"
        }
      },
      "execution_count": 29,
      "outputs": [
        {
          "output_type": "execute_result",
          "data": {
            "text/plain": [
              "(159, 7)"
            ]
          },
          "metadata": {},
          "execution_count": 29
        }
      ]
    },
    {
      "cell_type": "code",
      "source": [
        "df.describe()"
      ],
      "metadata": {
        "colab": {
          "base_uri": "https://localhost:8080/",
          "height": 300
        },
        "id": "FsoDNsAPP_SQ",
        "outputId": "6e8ba7ea-0e86-4c46-d411-ebf59015af8e"
      },
      "execution_count": 30,
      "outputs": [
        {
          "output_type": "execute_result",
          "data": {
            "text/plain": [
              "            idade         imc      filhos      encargos\n",
              "count  159.000000  159.000000  159.000000    159.000000\n",
              "mean    47.735849   27.843333    1.471698  31204.913774\n",
              "std     10.964530    1.791205    1.017638   4103.217767\n",
              "min     27.000000   22.950000    0.000000  21459.040000\n",
              "25%     39.000000   26.520000    1.000000  28142.340000\n",
              "50%     47.000000   27.840000    1.000000  31468.490000\n",
              "75%     56.000000   29.370000    2.000000  34252.895000\n",
              "max     75.000000   31.210000    3.000000  40473.260000"
            ],
            "text/html": [
              "\n",
              "  <div id=\"df-4268100a-5b05-4200-b2a6-30ccb0ac7e09\" class=\"colab-df-container\">\n",
              "    <div>\n",
              "<style scoped>\n",
              "    .dataframe tbody tr th:only-of-type {\n",
              "        vertical-align: middle;\n",
              "    }\n",
              "\n",
              "    .dataframe tbody tr th {\n",
              "        vertical-align: top;\n",
              "    }\n",
              "\n",
              "    .dataframe thead th {\n",
              "        text-align: right;\n",
              "    }\n",
              "</style>\n",
              "<table border=\"1\" class=\"dataframe\">\n",
              "  <thead>\n",
              "    <tr style=\"text-align: right;\">\n",
              "      <th></th>\n",
              "      <th>idade</th>\n",
              "      <th>imc</th>\n",
              "      <th>filhos</th>\n",
              "      <th>encargos</th>\n",
              "    </tr>\n",
              "  </thead>\n",
              "  <tbody>\n",
              "    <tr>\n",
              "      <th>count</th>\n",
              "      <td>159.000000</td>\n",
              "      <td>159.000000</td>\n",
              "      <td>159.000000</td>\n",
              "      <td>159.000000</td>\n",
              "    </tr>\n",
              "    <tr>\n",
              "      <th>mean</th>\n",
              "      <td>47.735849</td>\n",
              "      <td>27.843333</td>\n",
              "      <td>1.471698</td>\n",
              "      <td>31204.913774</td>\n",
              "    </tr>\n",
              "    <tr>\n",
              "      <th>std</th>\n",
              "      <td>10.964530</td>\n",
              "      <td>1.791205</td>\n",
              "      <td>1.017638</td>\n",
              "      <td>4103.217767</td>\n",
              "    </tr>\n",
              "    <tr>\n",
              "      <th>min</th>\n",
              "      <td>27.000000</td>\n",
              "      <td>22.950000</td>\n",
              "      <td>0.000000</td>\n",
              "      <td>21459.040000</td>\n",
              "    </tr>\n",
              "    <tr>\n",
              "      <th>25%</th>\n",
              "      <td>39.000000</td>\n",
              "      <td>26.520000</td>\n",
              "      <td>1.000000</td>\n",
              "      <td>28142.340000</td>\n",
              "    </tr>\n",
              "    <tr>\n",
              "      <th>50%</th>\n",
              "      <td>47.000000</td>\n",
              "      <td>27.840000</td>\n",
              "      <td>1.000000</td>\n",
              "      <td>31468.490000</td>\n",
              "    </tr>\n",
              "    <tr>\n",
              "      <th>75%</th>\n",
              "      <td>56.000000</td>\n",
              "      <td>29.370000</td>\n",
              "      <td>2.000000</td>\n",
              "      <td>34252.895000</td>\n",
              "    </tr>\n",
              "    <tr>\n",
              "      <th>max</th>\n",
              "      <td>75.000000</td>\n",
              "      <td>31.210000</td>\n",
              "      <td>3.000000</td>\n",
              "      <td>40473.260000</td>\n",
              "    </tr>\n",
              "  </tbody>\n",
              "</table>\n",
              "</div>\n",
              "    <div class=\"colab-df-buttons\">\n",
              "\n",
              "  <div class=\"colab-df-container\">\n",
              "    <button class=\"colab-df-convert\" onclick=\"convertToInteractive('df-4268100a-5b05-4200-b2a6-30ccb0ac7e09')\"\n",
              "            title=\"Convert this dataframe to an interactive table.\"\n",
              "            style=\"display:none;\">\n",
              "\n",
              "  <svg xmlns=\"http://www.w3.org/2000/svg\" height=\"24px\" viewBox=\"0 -960 960 960\">\n",
              "    <path d=\"M120-120v-720h720v720H120Zm60-500h600v-160H180v160Zm220 220h160v-160H400v160Zm0 220h160v-160H400v160ZM180-400h160v-160H180v160Zm440 0h160v-160H620v160ZM180-180h160v-160H180v160Zm440 0h160v-160H620v160Z\"/>\n",
              "  </svg>\n",
              "    </button>\n",
              "\n",
              "  <style>\n",
              "    .colab-df-container {\n",
              "      display:flex;\n",
              "      gap: 12px;\n",
              "    }\n",
              "\n",
              "    .colab-df-convert {\n",
              "      background-color: #E8F0FE;\n",
              "      border: none;\n",
              "      border-radius: 50%;\n",
              "      cursor: pointer;\n",
              "      display: none;\n",
              "      fill: #1967D2;\n",
              "      height: 32px;\n",
              "      padding: 0 0 0 0;\n",
              "      width: 32px;\n",
              "    }\n",
              "\n",
              "    .colab-df-convert:hover {\n",
              "      background-color: #E2EBFA;\n",
              "      box-shadow: 0px 1px 2px rgba(60, 64, 67, 0.3), 0px 1px 3px 1px rgba(60, 64, 67, 0.15);\n",
              "      fill: #174EA6;\n",
              "    }\n",
              "\n",
              "    .colab-df-buttons div {\n",
              "      margin-bottom: 4px;\n",
              "    }\n",
              "\n",
              "    [theme=dark] .colab-df-convert {\n",
              "      background-color: #3B4455;\n",
              "      fill: #D2E3FC;\n",
              "    }\n",
              "\n",
              "    [theme=dark] .colab-df-convert:hover {\n",
              "      background-color: #434B5C;\n",
              "      box-shadow: 0px 1px 3px 1px rgba(0, 0, 0, 0.15);\n",
              "      filter: drop-shadow(0px 1px 2px rgba(0, 0, 0, 0.3));\n",
              "      fill: #FFFFFF;\n",
              "    }\n",
              "  </style>\n",
              "\n",
              "    <script>\n",
              "      const buttonEl =\n",
              "        document.querySelector('#df-4268100a-5b05-4200-b2a6-30ccb0ac7e09 button.colab-df-convert');\n",
              "      buttonEl.style.display =\n",
              "        google.colab.kernel.accessAllowed ? 'block' : 'none';\n",
              "\n",
              "      async function convertToInteractive(key) {\n",
              "        const element = document.querySelector('#df-4268100a-5b05-4200-b2a6-30ccb0ac7e09');\n",
              "        const dataTable =\n",
              "          await google.colab.kernel.invokeFunction('convertToInteractive',\n",
              "                                                    [key], {});\n",
              "        if (!dataTable) return;\n",
              "\n",
              "        const docLinkHtml = 'Like what you see? Visit the ' +\n",
              "          '<a target=\"_blank\" href=https://colab.research.google.com/notebooks/data_table.ipynb>data table notebook</a>'\n",
              "          + ' to learn more about interactive tables.';\n",
              "        element.innerHTML = '';\n",
              "        dataTable['output_type'] = 'display_data';\n",
              "        await google.colab.output.renderOutput(dataTable, element);\n",
              "        const docLink = document.createElement('div');\n",
              "        docLink.innerHTML = docLinkHtml;\n",
              "        element.appendChild(docLink);\n",
              "      }\n",
              "    </script>\n",
              "  </div>\n",
              "\n",
              "\n",
              "<div id=\"df-a820d656-9d27-45a3-8b51-f9d3c374f4e1\">\n",
              "  <button class=\"colab-df-quickchart\" onclick=\"quickchart('df-a820d656-9d27-45a3-8b51-f9d3c374f4e1')\"\n",
              "            title=\"Suggest charts\"\n",
              "            style=\"display:none;\">\n",
              "\n",
              "<svg xmlns=\"http://www.w3.org/2000/svg\" height=\"24px\"viewBox=\"0 0 24 24\"\n",
              "     width=\"24px\">\n",
              "    <g>\n",
              "        <path d=\"M19 3H5c-1.1 0-2 .9-2 2v14c0 1.1.9 2 2 2h14c1.1 0 2-.9 2-2V5c0-1.1-.9-2-2-2zM9 17H7v-7h2v7zm4 0h-2V7h2v10zm4 0h-2v-4h2v4z\"/>\n",
              "    </g>\n",
              "</svg>\n",
              "  </button>\n",
              "\n",
              "<style>\n",
              "  .colab-df-quickchart {\n",
              "      --bg-color: #E8F0FE;\n",
              "      --fill-color: #1967D2;\n",
              "      --hover-bg-color: #E2EBFA;\n",
              "      --hover-fill-color: #174EA6;\n",
              "      --disabled-fill-color: #AAA;\n",
              "      --disabled-bg-color: #DDD;\n",
              "  }\n",
              "\n",
              "  [theme=dark] .colab-df-quickchart {\n",
              "      --bg-color: #3B4455;\n",
              "      --fill-color: #D2E3FC;\n",
              "      --hover-bg-color: #434B5C;\n",
              "      --hover-fill-color: #FFFFFF;\n",
              "      --disabled-bg-color: #3B4455;\n",
              "      --disabled-fill-color: #666;\n",
              "  }\n",
              "\n",
              "  .colab-df-quickchart {\n",
              "    background-color: var(--bg-color);\n",
              "    border: none;\n",
              "    border-radius: 50%;\n",
              "    cursor: pointer;\n",
              "    display: none;\n",
              "    fill: var(--fill-color);\n",
              "    height: 32px;\n",
              "    padding: 0;\n",
              "    width: 32px;\n",
              "  }\n",
              "\n",
              "  .colab-df-quickchart:hover {\n",
              "    background-color: var(--hover-bg-color);\n",
              "    box-shadow: 0 1px 2px rgba(60, 64, 67, 0.3), 0 1px 3px 1px rgba(60, 64, 67, 0.15);\n",
              "    fill: var(--button-hover-fill-color);\n",
              "  }\n",
              "\n",
              "  .colab-df-quickchart-complete:disabled,\n",
              "  .colab-df-quickchart-complete:disabled:hover {\n",
              "    background-color: var(--disabled-bg-color);\n",
              "    fill: var(--disabled-fill-color);\n",
              "    box-shadow: none;\n",
              "  }\n",
              "\n",
              "  .colab-df-spinner {\n",
              "    border: 2px solid var(--fill-color);\n",
              "    border-color: transparent;\n",
              "    border-bottom-color: var(--fill-color);\n",
              "    animation:\n",
              "      spin 1s steps(1) infinite;\n",
              "  }\n",
              "\n",
              "  @keyframes spin {\n",
              "    0% {\n",
              "      border-color: transparent;\n",
              "      border-bottom-color: var(--fill-color);\n",
              "      border-left-color: var(--fill-color);\n",
              "    }\n",
              "    20% {\n",
              "      border-color: transparent;\n",
              "      border-left-color: var(--fill-color);\n",
              "      border-top-color: var(--fill-color);\n",
              "    }\n",
              "    30% {\n",
              "      border-color: transparent;\n",
              "      border-left-color: var(--fill-color);\n",
              "      border-top-color: var(--fill-color);\n",
              "      border-right-color: var(--fill-color);\n",
              "    }\n",
              "    40% {\n",
              "      border-color: transparent;\n",
              "      border-right-color: var(--fill-color);\n",
              "      border-top-color: var(--fill-color);\n",
              "    }\n",
              "    60% {\n",
              "      border-color: transparent;\n",
              "      border-right-color: var(--fill-color);\n",
              "    }\n",
              "    80% {\n",
              "      border-color: transparent;\n",
              "      border-right-color: var(--fill-color);\n",
              "      border-bottom-color: var(--fill-color);\n",
              "    }\n",
              "    90% {\n",
              "      border-color: transparent;\n",
              "      border-bottom-color: var(--fill-color);\n",
              "    }\n",
              "  }\n",
              "</style>\n",
              "\n",
              "  <script>\n",
              "    async function quickchart(key) {\n",
              "      const quickchartButtonEl =\n",
              "        document.querySelector('#' + key + ' button');\n",
              "      quickchartButtonEl.disabled = true;  // To prevent multiple clicks.\n",
              "      quickchartButtonEl.classList.add('colab-df-spinner');\n",
              "      try {\n",
              "        const charts = await google.colab.kernel.invokeFunction(\n",
              "            'suggestCharts', [key], {});\n",
              "      } catch (error) {\n",
              "        console.error('Error during call to suggestCharts:', error);\n",
              "      }\n",
              "      quickchartButtonEl.classList.remove('colab-df-spinner');\n",
              "      quickchartButtonEl.classList.add('colab-df-quickchart-complete');\n",
              "    }\n",
              "    (() => {\n",
              "      let quickchartButtonEl =\n",
              "        document.querySelector('#df-a820d656-9d27-45a3-8b51-f9d3c374f4e1 button');\n",
              "      quickchartButtonEl.style.display =\n",
              "        google.colab.kernel.accessAllowed ? 'block' : 'none';\n",
              "    })();\n",
              "  </script>\n",
              "</div>\n",
              "\n",
              "    </div>\n",
              "  </div>\n"
            ],
            "application/vnd.google.colaboratory.intrinsic+json": {
              "type": "dataframe",
              "summary": "{\n  \"name\": \"df\",\n  \"rows\": 8,\n  \"fields\": [\n    {\n      \"column\": \"idade\",\n      \"properties\": {\n        \"dtype\": \"number\",\n        \"std\": 45.12526562570348,\n        \"min\": 10.964530172384155,\n        \"max\": 159.0,\n        \"num_unique_values\": 8,\n        \"samples\": [\n          47.735849056603776,\n          47.0,\n          159.0\n        ],\n        \"semantic_type\": \"\",\n        \"description\": \"\"\n      }\n    },\n    {\n      \"column\": \"imc\",\n      \"properties\": {\n        \"dtype\": \"number\",\n        \"std\": 48.65903945515154,\n        \"min\": 1.7912051902993344,\n        \"max\": 159.0,\n        \"num_unique_values\": 8,\n        \"samples\": [\n          27.843333333333334,\n          27.84,\n          159.0\n        ],\n        \"semantic_type\": \"\",\n        \"description\": \"\"\n      }\n    },\n    {\n      \"column\": \"filhos\",\n      \"properties\": {\n        \"dtype\": \"number\",\n        \"std\": 55.74254524076134,\n        \"min\": 0.0,\n        \"max\": 159.0,\n        \"num_unique_values\": 7,\n        \"samples\": [\n          159.0,\n          1.471698113207547,\n          2.0\n        ],\n        \"semantic_type\": \"\",\n        \"description\": \"\"\n      }\n    },\n    {\n      \"column\": \"encargos\",\n      \"properties\": {\n        \"dtype\": \"number\",\n        \"std\": 14501.241777350193,\n        \"min\": 159.0,\n        \"max\": 40473.26,\n        \"num_unique_values\": 8,\n        \"samples\": [\n          31204.913773584907,\n          31468.49,\n          159.0\n        ],\n        \"semantic_type\": \"\",\n        \"description\": \"\"\n      }\n    }\n  ]\n}"
            }
          },
          "metadata": {},
          "execution_count": 30
        }
      ]
    },
    {
      "cell_type": "markdown",
      "source": [
        "**Podemos ver acima as médias de nossas colunas no dataframe.**\n",
        "\n",
        "**Ex: O máximo de filhos são 3 e 50% do dataframe tem somente 1 filho.**"
      ],
      "metadata": {
        "id": "fmgJE6Q52XHM"
      }
    },
    {
      "cell_type": "markdown",
      "source": [
        "Vamos analisar agora o .info do nosso dataframe para entender os tipos das variáveis e quais são categóricas"
      ],
      "metadata": {
        "id": "3Xl-owDgUY3a"
      }
    },
    {
      "cell_type": "code",
      "source": [
        "df.info()"
      ],
      "metadata": {
        "colab": {
          "base_uri": "https://localhost:8080/"
        },
        "id": "LDCukgCZQitZ",
        "outputId": "55037cd1-ce3f-4895-d922-ce95c3a33b2b"
      },
      "execution_count": 31,
      "outputs": [
        {
          "output_type": "stream",
          "name": "stdout",
          "text": [
            "<class 'pandas.core.frame.DataFrame'>\n",
            "RangeIndex: 159 entries, 0 to 158\n",
            "Data columns (total 7 columns):\n",
            " #   Column    Non-Null Count  Dtype  \n",
            "---  ------    --------------  -----  \n",
            " 0   idade     159 non-null    int64  \n",
            " 1   gênero    159 non-null    object \n",
            " 2   imc       159 non-null    float64\n",
            " 3   filhos    159 non-null    int64  \n",
            " 4   fumante   159 non-null    object \n",
            " 5   região    159 non-null    object \n",
            " 6   encargos  159 non-null    float64\n",
            "dtypes: float64(2), int64(2), object(3)\n",
            "memory usage: 8.8+ KB\n"
          ]
        }
      ]
    },
    {
      "cell_type": "markdown",
      "source": [
        "Verificamos se temos nulos em nosso dataframe:\n",
        "\n"
      ],
      "metadata": {
        "id": "VjomQZ4CUl7q"
      }
    },
    {
      "cell_type": "code",
      "source": [
        "df.isnull().sum()"
      ],
      "metadata": {
        "colab": {
          "base_uri": "https://localhost:8080/"
        },
        "id": "AWLSGTd6Q7zd",
        "outputId": "549dbf6d-a8d7-4ac1-969f-187bc33e2651"
      },
      "execution_count": 32,
      "outputs": [
        {
          "output_type": "execute_result",
          "data": {
            "text/plain": [
              "idade       0\n",
              "gênero      0\n",
              "imc         0\n",
              "filhos      0\n",
              "fumante     0\n",
              "região      0\n",
              "encargos    0\n",
              "dtype: int64"
            ]
          },
          "metadata": {},
          "execution_count": 32
        }
      ]
    },
    {
      "cell_type": "markdown",
      "source": [
        "**Não temos nenhum nulo em nosso dataframe!**"
      ],
      "metadata": {
        "id": "-F6KD6EE243h"
      }
    },
    {
      "cell_type": "markdown",
      "source": [
        "Verificamos se temos duplicatas em nosso dataframe"
      ],
      "metadata": {
        "id": "BMO-om9YUoKB"
      }
    },
    {
      "cell_type": "code",
      "source": [
        "df.duplicated().sum()"
      ],
      "metadata": {
        "colab": {
          "base_uri": "https://localhost:8080/"
        },
        "id": "Ae3WgHz0Scx5",
        "outputId": "1ede9146-788d-4b29-a1f6-943b60b505a2"
      },
      "execution_count": 33,
      "outputs": [
        {
          "output_type": "execute_result",
          "data": {
            "text/plain": [
              "0"
            ]
          },
          "metadata": {},
          "execution_count": 33
        }
      ]
    },
    {
      "cell_type": "markdown",
      "source": [
        "**Não temos nenhum duplicata em nosso dataframe!**"
      ],
      "metadata": {
        "id": "BKyePJwt267W"
      }
    },
    {
      "cell_type": "code",
      "source": [
        "df.gênero.value_counts()"
      ],
      "metadata": {
        "colab": {
          "base_uri": "https://localhost:8080/"
        },
        "id": "Nk8RYPd_Wua1",
        "outputId": "b078e049-0d50-46d5-afe0-f6df0c650ce6"
      },
      "execution_count": 34,
      "outputs": [
        {
          "output_type": "execute_result",
          "data": {
            "text/plain": [
              "gênero\n",
              "masculino    83\n",
              "feminino     76\n",
              "Name: count, dtype: int64"
            ]
          },
          "metadata": {},
          "execution_count": 34
        }
      ]
    },
    {
      "cell_type": "markdown",
      "source": [
        "**Verificamos nossa distribuicão de gêneros e podemos ver que masculino:83 e feminino:76, está equilibrado!**"
      ],
      "metadata": {
        "id": "hoYBK03q3iC7"
      }
    },
    {
      "cell_type": "markdown",
      "source": [
        "# Vamos plotar gráficos para entender a frequência de algumas variáveis."
      ],
      "metadata": {
        "id": "9Y0vzHQ5XWVp"
      }
    },
    {
      "cell_type": "markdown",
      "source": [
        "Frequência dos gêneros:"
      ],
      "metadata": {
        "id": "_CmkZXT-36Ur"
      }
    },
    {
      "cell_type": "code",
      "source": [
        "plt.bar(df.gênero.value_counts().index,df.gênero.value_counts().values) #frequência dos gêneros"
      ],
      "metadata": {
        "colab": {
          "base_uri": "https://localhost:8080/",
          "height": 447
        },
        "id": "2kcdj1WcXCBn",
        "outputId": "e14037e7-e7c9-4e12-ffee-bb14cabf3c9d"
      },
      "execution_count": 35,
      "outputs": [
        {
          "output_type": "execute_result",
          "data": {
            "text/plain": [
              "<BarContainer object of 2 artists>"
            ]
          },
          "metadata": {},
          "execution_count": 35
        },
        {
          "output_type": "display_data",
          "data": {
            "text/plain": [
              "<Figure size 640x480 with 1 Axes>"
            ],
            "image/png": "[encoded data removed]"
          },
          "metadata": {}
        }
      ]
    },
    {
      "cell_type": "markdown",
      "source": [
        "**Aqui podemos ver a mesma coisa referente aos gêneros porém de uma forma mais visual, onde os 2 estão equilibrados**"
      ],
      "metadata": {
        "id": "4kP6SWXW3r0b"
      }
    },
    {
      "cell_type": "markdown",
      "source": [
        "Frequência dos filhos:"
      ],
      "metadata": {
        "id": "RygFJSX_38KD"
      }
    },
    {
      "cell_type": "code",
      "source": [
        "plt.bar(df.filhos.value_counts().index,df.filhos.value_counts().values) #frequência dos filhos"
      ],
      "metadata": {
        "colab": {
          "base_uri": "https://localhost:8080/",
          "height": 447
        },
        "id": "33b5d9JsXcU7",
        "outputId": "65ed1543-78eb-4f2e-ef85-dbd64973b202"
      },
      "execution_count": 36,
      "outputs": [
        {
          "output_type": "execute_result",
          "data": {
            "text/plain": [
              "<BarContainer object of 4 artists>"
            ]
          },
          "metadata": {},
          "execution_count": 36
        },
        {
          "output_type": "display_data",
          "data": {
            "text/plain": [
              "<Figure size 640x480 with 1 Axes>"
            ],
            "image/png": "[encoded data removed]"
          },
          "metadata": {}
        }
      ]
    },
    {
      "cell_type": "markdown",
      "source": [
        "**Podemos ver acima que a grande maioria possui 1 ou 2 filhos somente e a minoria possui 3 filhos!**"
      ],
      "metadata": {
        "id": "fgTcertf4AkX"
      }
    },
    {
      "cell_type": "markdown",
      "source": [
        "Frequência dos fumantes:"
      ],
      "metadata": {
        "id": "1HmA4KbZ4Lyq"
      }
    },
    {
      "cell_type": "code",
      "source": [
        "plt.bar(df.fumante.value_counts().index,df.fumante.value_counts().values) #frequência de fumantes"
      ],
      "metadata": {
        "colab": {
          "base_uri": "https://localhost:8080/",
          "height": 447
        },
        "id": "lGHkqGM4XwqK",
        "outputId": "03c52a9e-ee42-4fb4-e6a7-a19f45e6feaa"
      },
      "execution_count": 37,
      "outputs": [
        {
          "output_type": "execute_result",
          "data": {
            "text/plain": [
              "<BarContainer object of 2 artists>"
            ]
          },
          "metadata": {},
          "execution_count": 37
        },
        {
          "output_type": "display_data",
          "data": {
            "text/plain": [
              "<Figure size 640x480 with 1 Axes>"
            ],
            "image/png": "[encoded data removed]"
          },
          "metadata": {}
        }
      ]
    },
    {
      "cell_type": "markdown",
      "source": [
        "**Chegamos ao resultado de que temos mais \"não fumantes\" do que \"fumantes\" em nosso dataframe**"
      ],
      "metadata": {
        "id": "_CwSeJa24Qcx"
      }
    },
    {
      "cell_type": "markdown",
      "source": [
        "Vamos verificar agora qual a distribuicão de fumantes entre os gêneros:"
      ],
      "metadata": {
        "id": "Gk594A6pX8MJ"
      }
    },
    {
      "cell_type": "code",
      "source": [
        "# Filtrar o DataFrame para incluir apenas os fumantes\n",
        "fumantes = df[df['fumante'] == 'sim']\n",
        "\n",
        "# Contar o número de ocorrências de cada gênero\n",
        "contagem_genero = fumantes['gênero'].value_counts()\n",
        "print(contagem_genero)\n",
        "\n",
        "# Plotar o número de fumantes para cada gênero\n",
        "plt.bar(contagem_genero.index, contagem_genero.values)"
      ],
      "metadata": {
        "colab": {
          "base_uri": "https://localhost:8080/",
          "height": 517
        },
        "id": "LKrvPBjOYEg-",
        "outputId": "e11c6b4a-c892-416b-8583-3df366fdeb62"
      },
      "execution_count": 38,
      "outputs": [
        {
          "output_type": "stream",
          "name": "stdout",
          "text": [
            "gênero\n",
            "masculino    38\n",
            "feminino     28\n",
            "Name: count, dtype: int64\n"
          ]
        },
        {
          "output_type": "execute_result",
          "data": {
            "text/plain": [
              "<BarContainer object of 2 artists>"
            ]
          },
          "metadata": {},
          "execution_count": 38
        },
        {
          "output_type": "display_data",
          "data": {
            "text/plain": [
              "<Figure size 640x480 with 1 Axes>"
            ],
            "image/png": "[encoded data removed]"
          },
          "metadata": {}
        }
      ]
    },
    {
      "cell_type": "markdown",
      "source": [
        "**Conseguimos perceber com esse gráfico que o número de fumantes do gênero \"masculino\" é maior do que no gênero \"feminino\".**"
      ],
      "metadata": {
        "id": "qnK3Y5IL4Z3F"
      }
    },
    {
      "cell_type": "markdown",
      "source": [
        "Vamos analisar a média paga de encargos divido por gênero:"
      ],
      "metadata": {
        "id": "SomQk5_VjK7Y"
      }
    },
    {
      "cell_type": "code",
      "source": [
        "# Calcular a média dos encargos para cada gênero\n",
        "media_encargos = df.groupby('gênero')['encargos'].mean()\n",
        "print(media_encargos)\n",
        "# Plotar os resultados\n",
        "media_encargos.plot(kind='bar', color=['blue', 'orange'])\n",
        "plt.title('Média de encargos por gênero')\n",
        "plt.xlabel('Gênero')\n",
        "plt.ylabel('Média de encargos')\n",
        "plt.xticks(rotation=0)  # Rotação dos rótulos do eixo x para facilitar a leitura\n",
        "plt.show()"
      ],
      "metadata": {
        "colab": {
          "base_uri": "https://localhost:8080/",
          "height": 541
        },
        "id": "5Y1js3xZisMr",
        "outputId": "e5d55856-a9e3-41dc-b92f-6b97a8a62581"
      },
      "execution_count": 39,
      "outputs": [
        {
          "output_type": "stream",
          "name": "stdout",
          "text": [
            "gênero\n",
            "feminino     30260.903421\n",
            "masculino    32069.308795\n",
            "Name: encargos, dtype: float64\n"
          ]
        },
        {
          "output_type": "display_data",
          "data": {
            "text/plain": [
              "<Figure size 640x480 with 1 Axes>"
            ],
            "image/png": "[encoded data removed]"
          },
          "metadata": {}
        }
      ]
    },
    {
      "cell_type": "markdown",
      "source": [
        "**Através do gráfico podemos ver que os encargos pagos são semelhantes entre os gêneros**"
      ],
      "metadata": {
        "id": "l1IlP5ap4nbi"
      }
    },
    {
      "cell_type": "markdown",
      "source": [
        "Vamos analisar a média paga de encargos divido por fumantes/não fumantes:"
      ],
      "metadata": {
        "id": "ubTwOcTGjWk9"
      }
    },
    {
      "cell_type": "code",
      "source": [
        "# Calcular a média dos encargos para não fumantes/fumantes\n",
        "media_encargos = df.groupby('fumante')['encargos'].mean()\n",
        "print(media_encargos)\n",
        "# Plotar os resultados\n",
        "media_encargos.plot(kind='bar', color=['blue', 'orange'])\n",
        "plt.title('Média de encargos por não fumante/fumante')\n",
        "plt.xlabel('Fumante')\n",
        "plt.ylabel('Média de encargos')\n",
        "plt.xticks(rotation=0)  # Rotação dos rótulos do eixo x para facilitar a leitura\n",
        "plt.show()"
      ],
      "metadata": {
        "colab": {
          "base_uri": "https://localhost:8080/",
          "height": 541
        },
        "id": "rhSBQoMZjQWV",
        "outputId": "4eae0e25-8992-4818-a00c-73e5f48693ab"
      },
      "execution_count": 40,
      "outputs": [
        {
          "output_type": "stream",
          "name": "stdout",
          "text": [
            "fumante\n",
            "não    29770.719892\n",
            "sim    33225.823333\n",
            "Name: encargos, dtype: float64\n"
          ]
        },
        {
          "output_type": "display_data",
          "data": {
            "text/plain": [
              "<Figure size 640x480 with 1 Axes>"
            ],
            "image/png": "[encoded data removed]"
          },
          "metadata": {}
        }
      ]
    },
    {
      "cell_type": "markdown",
      "source": [
        "**Aqui temos uma informacão importante de que os \"fumantes\" possuem mais encargos do que os \"não fumantes\"!**"
      ],
      "metadata": {
        "id": "x3pBKLci4wPP"
      }
    },
    {
      "cell_type": "markdown",
      "source": [
        "Vamos analisar a média paga de encargos divido por região:"
      ],
      "metadata": {
        "id": "iUTZ46B5or9Q"
      }
    },
    {
      "cell_type": "code",
      "source": [
        "# Calcular a média dos encargos para não fumantes/fumantes\n",
        "media_encargos = df.groupby('região')['encargos'].mean()\n",
        "print(media_encargos)\n",
        "# Plotar os resultados\n",
        "media_encargos.plot(kind='bar', color=['blue', 'orange'])\n",
        "plt.title('Média de encargos por região')\n",
        "plt.xlabel('região')\n",
        "plt.ylabel('Média de encargos')\n",
        "plt.xticks(rotation=0)  # Rotação dos rótulos do eixo x para facilitar a leitura\n",
        "plt.show()"
      ],
      "metadata": {
        "colab": {
          "base_uri": "https://localhost:8080/",
          "height": 594
        },
        "id": "F6ZZ_55voig3",
        "outputId": "df683cf4-cf41-45af-cb09-f2379fbbbb39"
      },
      "execution_count": 41,
      "outputs": [
        {
          "output_type": "stream",
          "name": "stdout",
          "text": [
            "região\n",
            "nordeste    29080.641212\n",
            "norte       30919.948182\n",
            "sudeste     32834.192581\n",
            "sudoeste    31541.533125\n",
            "sul         31572.981463\n",
            "Name: encargos, dtype: float64\n"
          ]
        },
        {
          "output_type": "display_data",
          "data": {
            "text/plain": [
              "<Figure size 640x480 with 1 Axes>"
            ],
            "image/png": "[encoded data removed]"
          },
          "metadata": {}
        }
      ]
    },
    {
      "cell_type": "markdown",
      "source": [
        "**Nas regiões não percebemos muita discrepância, aparentemente está equilibrado os encargos.**"
      ],
      "metadata": {
        "id": "VYRiCRR0432h"
      }
    },
    {
      "cell_type": "markdown",
      "source": [
        "Vamos analisar também o IMC referente aos Encargos, será que quanto maior o IMC mais encargo é pago?"
      ],
      "metadata": {
        "id": "X8J_VRD0pgLC"
      }
    },
    {
      "cell_type": "code",
      "source": [
        "plt.scatter(df['imc'], df['encargos'])\n",
        "plt.xlabel('IMC')\n",
        "plt.ylabel('Encargos')\n",
        "plt.title('Relação entre IMC e Encargos')\n",
        "plt.show()"
      ],
      "metadata": {
        "colab": {
          "base_uri": "https://localhost:8080/",
          "height": 472
        },
        "id": "PbKf-IH7pCVC",
        "outputId": "8db9f58b-21b7-4e6d-a1b5-4b9137a3d71e"
      },
      "execution_count": 42,
      "outputs": [
        {
          "output_type": "display_data",
          "data": {
            "text/plain": [
              "<Figure size 640x480 with 1 Axes>"
            ],
            "image/png": "[encoded data removed]"
          },
          "metadata": {}
        }
      ]
    },
    {
      "cell_type": "markdown",
      "source": [
        "**Podemos ver acima que quanto maior o IMC mais \"bolinhas azuis\" temos nos níveis altos de encargo.**"
      ],
      "metadata": {
        "id": "MuLhxBR3c4ze"
      }
    },
    {
      "cell_type": "markdown",
      "source": [
        "# Vamos agora pré-processar nossas variáveis!"
      ],
      "metadata": {
        "id": "ar4PGt4uV4xB"
      }
    },
    {
      "cell_type": "code",
      "source": [
        "df.info()"
      ],
      "metadata": {
        "colab": {
          "base_uri": "https://localhost:8080/"
        },
        "id": "3SCGuLyvShgQ",
        "outputId": "e223d466-5c27-45ed-e0ac-70507e70cc09"
      },
      "execution_count": 43,
      "outputs": [
        {
          "output_type": "stream",
          "name": "stdout",
          "text": [
            "<class 'pandas.core.frame.DataFrame'>\n",
            "RangeIndex: 159 entries, 0 to 158\n",
            "Data columns (total 7 columns):\n",
            " #   Column    Non-Null Count  Dtype  \n",
            "---  ------    --------------  -----  \n",
            " 0   idade     159 non-null    int64  \n",
            " 1   gênero    159 non-null    object \n",
            " 2   imc       159 non-null    float64\n",
            " 3   filhos    159 non-null    int64  \n",
            " 4   fumante   159 non-null    object \n",
            " 5   região    159 non-null    object \n",
            " 6   encargos  159 non-null    float64\n",
            "dtypes: float64(2), int64(2), object(3)\n",
            "memory usage: 8.8+ KB\n"
          ]
        }
      ]
    },
    {
      "cell_type": "code",
      "source": [
        "from sklearn.preprocessing import LabelEncoder\n",
        "\n",
        "label_encoder = LabelEncoder()\n",
        "\n",
        "#LabelEnconder\n",
        "df['gênero'] = label_encoder.fit_transform(df['gênero'])\n",
        "df['fumante'] = label_encoder.fit_transform(df['fumante'])\n",
        "df['região'] = label_encoder.fit_transform(df['região'])\n",
        "\n",
        "df"
      ],
      "metadata": {
        "colab": {
          "base_uri": "https://localhost:8080/",
          "height": 424
        },
        "id": "4IRj8-F5c3_o",
        "outputId": "fe313788-b583-412d-8272-01fd4d4fcf60"
      },
      "execution_count": 44,
      "outputs": [
        {
          "output_type": "execute_result",
          "data": {
            "text/plain": [
              "     idade  gênero    imc  filhos  fumante  região  encargos\n",
              "0       56       0  29.77       2        1       3  31109.89\n",
              "1       46       1  25.86       1        0       0  26650.70\n",
              "2       32       1  23.01       0        0       3  21459.04\n",
              "3       45       0  28.56       1        1       0  28455.23\n",
              "4       41       1  30.52       3        0       0  34899.12\n",
              "..     ...     ...    ...     ...      ...     ...       ...\n",
              "154     42       1  30.12       0        0       2  31126.54\n",
              "155     48       0  27.45       3        0       3  34879.28\n",
              "156     36       1  28.67       2        1       0  32741.62\n",
              "157     59       0  29.73       1        0       2  34982.17\n",
              "158     45       1  30.01       0        0       0  31450.73\n",
              "\n",
              "[159 rows x 7 columns]"
            ],
            "text/html": [
              "\n",
              "  <div id=\"df-1f9e4584-f01c-46fb-bded-7eb5abdd3b98\" class=\"colab-df-container\">\n",
              "    <div>\n",
              "<style scoped>\n",
              "    .dataframe tbody tr th:only-of-type {\n",
              "        vertical-align: middle;\n",
              "    }\n",
              "\n",
              "    .dataframe tbody tr th {\n",
              "        vertical-align: top;\n",
              "    }\n",
              "\n",
              "    .dataframe thead th {\n",
              "        text-align: right;\n",
              "    }\n",
              "</style>\n",
              "<table border=\"1\" class=\"dataframe\">\n",
              "  <thead>\n",
              "    <tr style=\"text-align: right;\">\n",
              "      <th></th>\n",
              "      <th>idade</th>\n",
              "      <th>gênero</th>\n",
              "      <th>imc</th>\n",
              "      <th>filhos</th>\n",
              "      <th>fumante</th>\n",
              "      <th>região</th>\n",
              "      <th>encargos</th>\n",
              "    </tr>\n",
              "  </thead>\n",
              "  <tbody>\n",
              "    <tr>\n",
              "      <th>0</th>\n",
              "      <td>56</td>\n",
              "      <td>0</td>\n",
              "      <td>29.77</td>\n",
              "      <td>2</td>\n",
              "      <td>1</td>\n",
              "      <td>3</td>\n",
              "      <td>31109.89</td>\n",
              "    </tr>\n",
              "    <tr>\n",
              "      <th>1</th>\n",
              "      <td>46</td>\n",
              "      <td>1</td>\n",
              "      <td>25.86</td>\n",
              "      <td>1</td>\n",
              "      <td>0</td>\n",
              "      <td>0</td>\n",
              "      <td>26650.70</td>\n",
              "    </tr>\n",
              "    <tr>\n",
              "      <th>2</th>\n",
              "      <td>32</td>\n",
              "      <td>1</td>\n",
              "      <td>23.01</td>\n",
              "      <td>0</td>\n",
              "      <td>0</td>\n",
              "      <td>3</td>\n",
              "      <td>21459.04</td>\n",
              "    </tr>\n",
              "    <tr>\n",
              "      <th>3</th>\n",
              "      <td>45</td>\n",
              "      <td>0</td>\n",
              "      <td>28.56</td>\n",
              "      <td>1</td>\n",
              "      <td>1</td>\n",
              "      <td>0</td>\n",
              "      <td>28455.23</td>\n",
              "    </tr>\n",
              "    <tr>\n",
              "      <th>4</th>\n",
              "      <td>41</td>\n",
              "      <td>1</td>\n",
              "      <td>30.52</td>\n",
              "      <td>3</td>\n",
              "      <td>0</td>\n",
              "      <td>0</td>\n",
              "      <td>34899.12</td>\n",
              "    </tr>\n",
              "    <tr>\n",
              "      <th>...</th>\n",
              "      <td>...</td>\n",
              "      <td>...</td>\n",
              "      <td>...</td>\n",
              "      <td>...</td>\n",
              "      <td>...</td>\n",
              "      <td>...</td>\n",
              "      <td>...</td>\n",
              "    </tr>\n",
              "    <tr>\n",
              "      <th>154</th>\n",
              "      <td>42</td>\n",
              "      <td>1</td>\n",
              "      <td>30.12</td>\n",
              "      <td>0</td>\n",
              "      <td>0</td>\n",
              "      <td>2</td>\n",
              "      <td>31126.54</td>\n",
              "    </tr>\n",
              "    <tr>\n",
              "      <th>155</th>\n",
              "      <td>48</td>\n",
              "      <td>0</td>\n",
              "      <td>27.45</td>\n",
              "      <td>3</td>\n",
              "      <td>0</td>\n",
              "      <td>3</td>\n",
              "      <td>34879.28</td>\n",
              "    </tr>\n",
              "    <tr>\n",
              "      <th>156</th>\n",
              "      <td>36</td>\n",
              "      <td>1</td>\n",
              "      <td>28.67</td>\n",
              "      <td>2</td>\n",
              "      <td>1</td>\n",
              "      <td>0</td>\n",
              "      <td>32741.62</td>\n",
              "    </tr>\n",
              "    <tr>\n",
              "      <th>157</th>\n",
              "      <td>59</td>\n",
              "      <td>0</td>\n",
              "      <td>29.73</td>\n",
              "      <td>1</td>\n",
              "      <td>0</td>\n",
              "      <td>2</td>\n",
              "      <td>34982.17</td>\n",
              "    </tr>\n",
              "    <tr>\n",
              "      <th>158</th>\n",
              "      <td>45</td>\n",
              "      <td>1</td>\n",
              "      <td>30.01</td>\n",
              "      <td>0</td>\n",
              "      <td>0</td>\n",
              "      <td>0</td>\n",
              "      <td>31450.73</td>\n",
              "    </tr>\n",
              "  </tbody>\n",
              "</table>\n",
              "<p>159 rows × 7 columns</p>\n",
              "</div>\n",
              "    <div class=\"colab-df-buttons\">\n",
              "\n",
              "  <div class=\"colab-df-container\">\n",
              "    <button class=\"colab-df-convert\" onclick=\"convertToInteractive('df-1f9e4584-f01c-46fb-bded-7eb5abdd3b98')\"\n",
              "            title=\"Convert this dataframe to an interactive table.\"\n",
              "            style=\"display:none;\">\n",
              "\n",
              "  <svg xmlns=\"http://www.w3.org/2000/svg\" height=\"24px\" viewBox=\"0 -960 960 960\">\n",
              "    <path d=\"M120-120v-720h720v720H120Zm60-500h600v-160H180v160Zm220 220h160v-160H400v160Zm0 220h160v-160H400v160ZM180-400h160v-160H180v160Zm440 0h160v-160H620v160ZM180-180h160v-160H180v160Zm440 0h160v-160H620v160Z\"/>\n",
              "  </svg>\n",
              "    </button>\n",
              "\n",
              "  <style>\n",
              "    .colab-df-container {\n",
              "      display:flex;\n",
              "      gap: 12px;\n",
              "    }\n",
              "\n",
              "    .colab-df-convert {\n",
              "      background-color: #E8F0FE;\n",
              "      border: none;\n",
              "      border-radius: 50%;\n",
              "      cursor: pointer;\n",
              "      display: none;\n",
              "      fill: #1967D2;\n",
              "      height: 32px;\n",
              "      padding: 0 0 0 0;\n",
              "      width: 32px;\n",
              "    }\n",
              "\n",
              "    .colab-df-convert:hover {\n",
              "      background-color: #E2EBFA;\n",
              "      box-shadow: 0px 1px 2px rgba(60, 64, 67, 0.3), 0px 1px 3px 1px rgba(60, 64, 67, 0.15);\n",
              "      fill: #174EA6;\n",
              "    }\n",
              "\n",
              "    .colab-df-buttons div {\n",
              "      margin-bottom: 4px;\n",
              "    }\n",
              "\n",
              "    [theme=dark] .colab-df-convert {\n",
              "      background-color: #3B4455;\n",
              "      fill: #D2E3FC;\n",
              "    }\n",
              "\n",
              "    [theme=dark] .colab-df-convert:hover {\n",
              "      background-color: #434B5C;\n",
              "      box-shadow: 0px 1px 3px 1px rgba(0, 0, 0, 0.15);\n",
              "      filter: drop-shadow(0px 1px 2px rgba(0, 0, 0, 0.3));\n",
              "      fill: #FFFFFF;\n",
              "    }\n",
              "  </style>\n",
              "\n",
              "    <script>\n",
              "      const buttonEl =\n",
              "        document.querySelector('#df-1f9e4584-f01c-46fb-bded-7eb5abdd3b98 button.colab-df-convert');\n",
              "      buttonEl.style.display =\n",
              "        google.colab.kernel.accessAllowed ? 'block' : 'none';\n",
              "\n",
              "      async function convertToInteractive(key) {\n",
              "        const element = document.querySelector('#df-1f9e4584-f01c-46fb-bded-7eb5abdd3b98');\n",
              "        const dataTable =\n",
              "          await google.colab.kernel.invokeFunction('convertToInteractive',\n",
              "                                                    [key], {});\n",
              "        if (!dataTable) return;\n",
              "\n",
              "        const docLinkHtml = 'Like what you see? Visit the ' +\n",
              "          '<a target=\"_blank\" href=https://colab.research.google.com/notebooks/data_table.ipynb>data table notebook</a>'\n",
              "          + ' to learn more about interactive tables.';\n",
              "        element.innerHTML = '';\n",
              "        dataTable['output_type'] = 'display_data';\n",
              "        await google.colab.output.renderOutput(dataTable, element);\n",
              "        const docLink = document.createElement('div');\n",
              "        docLink.innerHTML = docLinkHtml;\n",
              "        element.appendChild(docLink);\n",
              "      }\n",
              "    </script>\n",
              "  </div>\n",
              "\n",
              "\n",
              "<div id=\"df-adb6bae2-d2d4-4f4b-87ad-22ea2ad58c2b\">\n",
              "  <button class=\"colab-df-quickchart\" onclick=\"quickchart('df-adb6bae2-d2d4-4f4b-87ad-22ea2ad58c2b')\"\n",
              "            title=\"Suggest charts\"\n",
              "            style=\"display:none;\">\n",
              "\n",
              "<svg xmlns=\"http://www.w3.org/2000/svg\" height=\"24px\"viewBox=\"0 0 24 24\"\n",
              "     width=\"24px\">\n",
              "    <g>\n",
              "        <path d=\"M19 3H5c-1.1 0-2 .9-2 2v14c0 1.1.9 2 2 2h14c1.1 0 2-.9 2-2V5c0-1.1-.9-2-2-2zM9 17H7v-7h2v7zm4 0h-2V7h2v10zm4 0h-2v-4h2v4z\"/>\n",
              "    </g>\n",
              "</svg>\n",
              "  </button>\n",
              "\n",
              "<style>\n",
              "  .colab-df-quickchart {\n",
              "      --bg-color: #E8F0FE;\n",
              "      --fill-color: #1967D2;\n",
              "      --hover-bg-color: #E2EBFA;\n",
              "      --hover-fill-color: #174EA6;\n",
              "      --disabled-fill-color: #AAA;\n",
              "      --disabled-bg-color: #DDD;\n",
              "  }\n",
              "\n",
              "  [theme=dark] .colab-df-quickchart {\n",
              "      --bg-color: #3B4455;\n",
              "      --fill-color: #D2E3FC;\n",
              "      --hover-bg-color: #434B5C;\n",
              "      --hover-fill-color: #FFFFFF;\n",
              "      --disabled-bg-color: #3B4455;\n",
              "      --disabled-fill-color: #666;\n",
              "  }\n",
              "\n",
              "  .colab-df-quickchart {\n",
              "    background-color: var(--bg-color);\n",
              "    border: none;\n",
              "    border-radius: 50%;\n",
              "    cursor: pointer;\n",
              "    display: none;\n",
              "    fill: var(--fill-color);\n",
              "    height: 32px;\n",
              "    padding: 0;\n",
              "    width: 32px;\n",
              "  }\n",
              "\n",
              "  .colab-df-quickchart:hover {\n",
              "    background-color: var(--hover-bg-color);\n",
              "    box-shadow: 0 1px 2px rgba(60, 64, 67, 0.3), 0 1px 3px 1px rgba(60, 64, 67, 0.15);\n",
              "    fill: var(--button-hover-fill-color);\n",
              "  }\n",
              "\n",
              "  .colab-df-quickchart-complete:disabled,\n",
              "  .colab-df-quickchart-complete:disabled:hover {\n",
              "    background-color: var(--disabled-bg-color);\n",
              "    fill: var(--disabled-fill-color);\n",
              "    box-shadow: none;\n",
              "  }\n",
              "\n",
              "  .colab-df-spinner {\n",
              "    border: 2px solid var(--fill-color);\n",
              "    border-color: transparent;\n",
              "    border-bottom-color: var(--fill-color);\n",
              "    animation:\n",
              "      spin 1s steps(1) infinite;\n",
              "  }\n",
              "\n",
              "  @keyframes spin {\n",
              "    0% {\n",
              "      border-color: transparent;\n",
              "      border-bottom-color: var(--fill-color);\n",
              "      border-left-color: var(--fill-color);\n",
              "    }\n",
              "    20% {\n",
              "      border-color: transparent;\n",
              "      border-left-color: var(--fill-color);\n",
              "      border-top-color: var(--fill-color);\n",
              "    }\n",
              "    30% {\n",
              "      border-color: transparent;\n",
              "      border-left-color: var(--fill-color);\n",
              "      border-top-color: var(--fill-color);\n",
              "      border-right-color: var(--fill-color);\n",
              "    }\n",
              "    40% {\n",
              "      border-color: transparent;\n",
              "      border-right-color: var(--fill-color);\n",
              "      border-top-color: var(--fill-color);\n",
              "    }\n",
              "    60% {\n",
              "      border-color: transparent;\n",
              "      border-right-color: var(--fill-color);\n",
              "    }\n",
              "    80% {\n",
              "      border-color: transparent;\n",
              "      border-right-color: var(--fill-color);\n",
              "      border-bottom-color: var(--fill-color);\n",
              "    }\n",
              "    90% {\n",
              "      border-color: transparent;\n",
              "      border-bottom-color: var(--fill-color);\n",
              "    }\n",
              "  }\n",
              "</style>\n",
              "\n",
              "  <script>\n",
              "    async function quickchart(key) {\n",
              "      const quickchartButtonEl =\n",
              "        document.querySelector('#' + key + ' button');\n",
              "      quickchartButtonEl.disabled = true;  // To prevent multiple clicks.\n",
              "      quickchartButtonEl.classList.add('colab-df-spinner');\n",
              "      try {\n",
              "        const charts = await google.colab.kernel.invokeFunction(\n",
              "            'suggestCharts', [key], {});\n",
              "      } catch (error) {\n",
              "        console.error('Error during call to suggestCharts:', error);\n",
              "      }\n",
              "      quickchartButtonEl.classList.remove('colab-df-spinner');\n",
              "      quickchartButtonEl.classList.add('colab-df-quickchart-complete');\n",
              "    }\n",
              "    (() => {\n",
              "      let quickchartButtonEl =\n",
              "        document.querySelector('#df-adb6bae2-d2d4-4f4b-87ad-22ea2ad58c2b button');\n",
              "      quickchartButtonEl.style.display =\n",
              "        google.colab.kernel.accessAllowed ? 'block' : 'none';\n",
              "    })();\n",
              "  </script>\n",
              "</div>\n",
              "\n",
              "  <div id=\"id_b8d074f2-f59d-46b8-a550-ff432e591866\">\n",
              "    <style>\n",
              "      .colab-df-generate {\n",
              "        background-color: #E8F0FE;\n",
              "        border: none;\n",
              "        border-radius: 50%;\n",
              "        cursor: pointer;\n",
              "        display: none;\n",
              "        fill: #1967D2;\n",
              "        height: 32px;\n",
              "        padding: 0 0 0 0;\n",
              "        width: 32px;\n",
              "      }\n",
              "\n",
              "      .colab-df-generate:hover {\n",
              "        background-color: #E2EBFA;\n",
              "        box-shadow: 0px 1px 2px rgba(60, 64, 67, 0.3), 0px 1px 3px 1px rgba(60, 64, 67, 0.15);\n",
              "        fill: #174EA6;\n",
              "      }\n",
              "\n",
              "      [theme=dark] .colab-df-generate {\n",
              "        background-color: #3B4455;\n",
              "        fill: #D2E3FC;\n",
              "      }\n",
              "\n",
              "      [theme=dark] .colab-df-generate:hover {\n",
              "        background-color: #434B5C;\n",
              "        box-shadow: 0px 1px 3px 1px rgba(0, 0, 0, 0.15);\n",
              "        filter: drop-shadow(0px 1px 2px rgba(0, 0, 0, 0.3));\n",
              "        fill: #FFFFFF;\n",
              "      }\n",
              "    </style>\n",
              "    <button class=\"colab-df-generate\" onclick=\"generateWithVariable('df')\"\n",
              "            title=\"Generate code using this dataframe.\"\n",
              "            style=\"display:none;\">\n",
              "\n",
              "  <svg xmlns=\"http://www.w3.org/2000/svg\" height=\"24px\"viewBox=\"0 0 24 24\"\n",
              "       width=\"24px\">\n",
              "    <path d=\"M7,19H8.4L18.45,9,17,7.55,7,17.6ZM5,21V16.75L18.45,3.32a2,2,0,0,1,2.83,0l1.4,1.43a1.91,1.91,0,0,1,.58,1.4,1.91,1.91,0,0,1-.58,1.4L9.25,21ZM18.45,9,17,7.55Zm-12,3A5.31,5.31,0,0,0,4.9,8.1,5.31,5.31,0,0,0,1,6.5,5.31,5.31,0,0,0,4.9,4.9,5.31,5.31,0,0,0,6.5,1,5.31,5.31,0,0,0,8.1,4.9,5.31,5.31,0,0,0,12,6.5,5.46,5.46,0,0,0,6.5,12Z\"/>\n",
              "  </svg>\n",
              "    </button>\n",
              "    <script>\n",
              "      (() => {\n",
              "      const buttonEl =\n",
              "        document.querySelector('#id_b8d074f2-f59d-46b8-a550-ff432e591866 button.colab-df-generate');\n",
              "      buttonEl.style.display =\n",
              "        google.colab.kernel.accessAllowed ? 'block' : 'none';\n",
              "\n",
              "      buttonEl.onclick = () => {\n",
              "        google.colab.notebook.generateWithVariable('df');\n",
              "      }\n",
              "      })();\n",
              "    </script>\n",
              "  </div>\n",
              "\n",
              "    </div>\n",
              "  </div>\n"
            ],
            "application/vnd.google.colaboratory.intrinsic+json": {
              "type": "dataframe",
              "variable_name": "df",
              "summary": "{\n  \"name\": \"df\",\n  \"rows\": 159,\n  \"fields\": [\n    {\n      \"column\": \"idade\",\n      \"properties\": {\n        \"dtype\": \"number\",\n        \"std\": 10,\n        \"min\": 27,\n        \"max\": 75,\n        \"num_unique_values\": 48,\n        \"samples\": [\n          57,\n          73,\n          38\n        ],\n        \"semantic_type\": \"\",\n        \"description\": \"\"\n      }\n    },\n    {\n      \"column\": \"g\\u00eanero\",\n      \"properties\": {\n        \"dtype\": \"number\",\n        \"std\": 0,\n        \"min\": 0,\n        \"max\": 1,\n        \"num_unique_values\": 2,\n        \"samples\": [\n          1,\n          0\n        ],\n        \"semantic_type\": \"\",\n        \"description\": \"\"\n      }\n    },\n    {\n      \"column\": \"imc\",\n      \"properties\": {\n        \"dtype\": \"number\",\n        \"std\": 1.7912051902993344,\n        \"min\": 22.95,\n        \"max\": 31.21,\n        \"num_unique_values\": 144,\n        \"samples\": [\n          25.66,\n          27.58\n        ],\n        \"semantic_type\": \"\",\n        \"description\": \"\"\n      }\n    },\n    {\n      \"column\": \"filhos\",\n      \"properties\": {\n        \"dtype\": \"number\",\n        \"std\": 1,\n        \"min\": 0,\n        \"max\": 3,\n        \"num_unique_values\": 4,\n        \"samples\": [\n          1,\n          3\n        ],\n        \"semantic_type\": \"\",\n        \"description\": \"\"\n      }\n    },\n    {\n      \"column\": \"fumante\",\n      \"properties\": {\n        \"dtype\": \"number\",\n        \"std\": 0,\n        \"min\": 0,\n        \"max\": 1,\n        \"num_unique_values\": 2,\n        \"samples\": [\n          0,\n          1\n        ],\n        \"semantic_type\": \"\",\n        \"description\": \"\"\n      }\n    },\n    {\n      \"column\": \"regi\\u00e3o\",\n      \"properties\": {\n        \"dtype\": \"number\",\n        \"std\": 1,\n        \"min\": 0,\n        \"max\": 4,\n        \"num_unique_values\": 5,\n        \"samples\": [\n          0,\n          2\n        ],\n        \"semantic_type\": \"\",\n        \"description\": \"\"\n      }\n    },\n    {\n      \"column\": \"encargos\",\n      \"properties\": {\n        \"dtype\": \"number\",\n        \"std\": 4103.217767416985,\n        \"min\": 21459.04,\n        \"max\": 40473.26,\n        \"num_unique_values\": 159,\n        \"samples\": [\n          26410.45,\n          34879.28\n        ],\n        \"semantic_type\": \"\",\n        \"description\": \"\"\n      }\n    }\n  ]\n}"
            }
          },
          "metadata": {},
          "execution_count": 44
        }
      ]
    },
    {
      "cell_type": "markdown",
      "source": [
        "**Ficou assim nosso dataframe pré processado com Label Encoder nas variáveis categóricas**"
      ],
      "metadata": {
        "id": "S8r9BRdI5Nat"
      }
    },
    {
      "cell_type": "markdown",
      "source": [
        "Vamos calcular as correlacões entre as variáveis:"
      ],
      "metadata": {
        "id": "N_RLfdDJ5Vd_"
      }
    },
    {
      "cell_type": "code",
      "source": [
        "corr_matrix = df.corr()\n",
        "corr_matrix"
      ],
      "metadata": {
        "colab": {
          "base_uri": "https://localhost:8080/",
          "height": 269
        },
        "id": "_DwgPvjrWYjx",
        "outputId": "81f25aa9-44e4-4c7b-bb03-d2cb4cdaed96"
      },
      "execution_count": 45,
      "outputs": [
        {
          "output_type": "execute_result",
          "data": {
            "text/plain": [
              "             idade    gênero       imc    filhos   fumante    região  encargos\n",
              "idade     1.000000  0.066726  0.257992  0.081007  0.104441  0.157204  0.513311\n",
              "gênero    0.066726  1.000000  0.215798 -0.113579  0.090640 -0.098808  0.220846\n",
              "imc       0.257992  0.215798  1.000000 -0.046458  0.135177 -0.004196  0.495011\n",
              "filhos    0.081007 -0.113579 -0.046458  1.000000 -0.114903  0.019911  0.320045\n",
              "fumante   0.104441  0.090640  0.135177 -0.114903  1.000000  0.148944  0.416220\n",
              "região    0.157204 -0.098808 -0.004196  0.019911  0.148944  1.000000  0.195431\n",
              "encargos  0.513311  0.220846  0.495011  0.320045  0.416220  0.195431  1.000000"
            ],
            "text/html": [
              "\n",
              "  <div id=\"df-ccd808d3-c7a5-4e24-80a7-a62bfe9d30bd\" class=\"colab-df-container\">\n",
              "    <div>\n",
              "<style scoped>\n",
              "    .dataframe tbody tr th:only-of-type {\n",
              "        vertical-align: middle;\n",
              "    }\n",
              "\n",
              "    .dataframe tbody tr th {\n",
              "        vertical-align: top;\n",
              "    }\n",
              "\n",
              "    .dataframe thead th {\n",
              "        text-align: right;\n",
              "    }\n",
              "</style>\n",
              "<table border=\"1\" class=\"dataframe\">\n",
              "  <thead>\n",
              "    <tr style=\"text-align: right;\">\n",
              "      <th></th>\n",
              "      <th>idade</th>\n",
              "      <th>gênero</th>\n",
              "      <th>imc</th>\n",
              "      <th>filhos</th>\n",
              "      <th>fumante</th>\n",
              "      <th>região</th>\n",
              "      <th>encargos</th>\n",
              "    </tr>\n",
              "  </thead>\n",
              "  <tbody>\n",
              "    <tr>\n",
              "      <th>idade</th>\n",
              "      <td>1.000000</td>\n",
              "      <td>0.066726</td>\n",
              "      <td>0.257992</td>\n",
              "      <td>0.081007</td>\n",
              "      <td>0.104441</td>\n",
              "      <td>0.157204</td>\n",
              "      <td>0.513311</td>\n",
              "    </tr>\n",
              "    <tr>\n",
              "      <th>gênero</th>\n",
              "      <td>0.066726</td>\n",
              "      <td>1.000000</td>\n",
              "      <td>0.215798</td>\n",
              "      <td>-0.113579</td>\n",
              "      <td>0.090640</td>\n",
              "      <td>-0.098808</td>\n",
              "      <td>0.220846</td>\n",
              "    </tr>\n",
              "    <tr>\n",
              "      <th>imc</th>\n",
              "      <td>0.257992</td>\n",
              "      <td>0.215798</td>\n",
              "      <td>1.000000</td>\n",
              "      <td>-0.046458</td>\n",
              "      <td>0.135177</td>\n",
              "      <td>-0.004196</td>\n",
              "      <td>0.495011</td>\n",
              "    </tr>\n",
              "    <tr>\n",
              "      <th>filhos</th>\n",
              "      <td>0.081007</td>\n",
              "      <td>-0.113579</td>\n",
              "      <td>-0.046458</td>\n",
              "      <td>1.000000</td>\n",
              "      <td>-0.114903</td>\n",
              "      <td>0.019911</td>\n",
              "      <td>0.320045</td>\n",
              "    </tr>\n",
              "    <tr>\n",
              "      <th>fumante</th>\n",
              "      <td>0.104441</td>\n",
              "      <td>0.090640</td>\n",
              "      <td>0.135177</td>\n",
              "      <td>-0.114903</td>\n",
              "      <td>1.000000</td>\n",
              "      <td>0.148944</td>\n",
              "      <td>0.416220</td>\n",
              "    </tr>\n",
              "    <tr>\n",
              "      <th>região</th>\n",
              "      <td>0.157204</td>\n",
              "      <td>-0.098808</td>\n",
              "      <td>-0.004196</td>\n",
              "      <td>0.019911</td>\n",
              "      <td>0.148944</td>\n",
              "      <td>1.000000</td>\n",
              "      <td>0.195431</td>\n",
              "    </tr>\n",
              "    <tr>\n",
              "      <th>encargos</th>\n",
              "      <td>0.513311</td>\n",
              "      <td>0.220846</td>\n",
              "      <td>0.495011</td>\n",
              "      <td>0.320045</td>\n",
              "      <td>0.416220</td>\n",
              "      <td>0.195431</td>\n",
              "      <td>1.000000</td>\n",
              "    </tr>\n",
              "  </tbody>\n",
              "</table>\n",
              "</div>\n",
              "    <div class=\"colab-df-buttons\">\n",
              "\n",
              "  <div class=\"colab-df-container\">\n",
              "    <button class=\"colab-df-convert\" onclick=\"convertToInteractive('df-ccd808d3-c7a5-4e24-80a7-a62bfe9d30bd')\"\n",
              "            title=\"Convert this dataframe to an interactive table.\"\n",
              "            style=\"display:none;\">\n",
              "\n",
              "  <svg xmlns=\"http://www.w3.org/2000/svg\" height=\"24px\" viewBox=\"0 -960 960 960\">\n",
              "    <path d=\"M120-120v-720h720v720H120Zm60-500h600v-160H180v160Zm220 220h160v-160H400v160Zm0 220h160v-160H400v160ZM180-400h160v-160H180v160Zm440 0h160v-160H620v160ZM180-180h160v-160H180v160Zm440 0h160v-160H620v160Z\"/>\n",
              "  </svg>\n",
              "    </button>\n",
              "\n",
              "  <style>\n",
              "    .colab-df-container {\n",
              "      display:flex;\n",
              "      gap: 12px;\n",
              "    }\n",
              "\n",
              "    .colab-df-convert {\n",
              "      background-color: #E8F0FE;\n",
              "      border: none;\n",
              "      border-radius: 50%;\n",
              "      cursor: pointer;\n",
              "      display: none;\n",
              "      fill: #1967D2;\n",
              "      height: 32px;\n",
              "      padding: 0 0 0 0;\n",
              "      width: 32px;\n",
              "    }\n",
              "\n",
              "    .colab-df-convert:hover {\n",
              "      background-color: #E2EBFA;\n",
              "      box-shadow: 0px 1px 2px rgba(60, 64, 67, 0.3), 0px 1px 3px 1px rgba(60, 64, 67, 0.15);\n",
              "      fill: #174EA6;\n",
              "    }\n",
              "\n",
              "    .colab-df-buttons div {\n",
              "      margin-bottom: 4px;\n",
              "    }\n",
              "\n",
              "    [theme=dark] .colab-df-convert {\n",
              "      background-color: #3B4455;\n",
              "      fill: #D2E3FC;\n",
              "    }\n",
              "\n",
              "    [theme=dark] .colab-df-convert:hover {\n",
              "      background-color: #434B5C;\n",
              "      box-shadow: 0px 1px 3px 1px rgba(0, 0, 0, 0.15);\n",
              "      filter: drop-shadow(0px 1px 2px rgba(0, 0, 0, 0.3));\n",
              "      fill: #FFFFFF;\n",
              "    }\n",
              "  </style>\n",
              "\n",
              "    <script>\n",
              "      const buttonEl =\n",
              "        document.querySelector('#df-ccd808d3-c7a5-4e24-80a7-a62bfe9d30bd button.colab-df-convert');\n",
              "      buttonEl.style.display =\n",
              "        google.colab.kernel.accessAllowed ? 'block' : 'none';\n",
              "\n",
              "      async function convertToInteractive(key) {\n",
              "        const element = document.querySelector('#df-ccd808d3-c7a5-4e24-80a7-a62bfe9d30bd');\n",
              "        const dataTable =\n",
              "          await google.colab.kernel.invokeFunction('convertToInteractive',\n",
              "                                                    [key], {});\n",
              "        if (!dataTable) return;\n",
              "\n",
              "        const docLinkHtml = 'Like what you see? Visit the ' +\n",
              "          '<a target=\"_blank\" href=https://colab.research.google.com/notebooks/data_table.ipynb>data table notebook</a>'\n",
              "          + ' to learn more about interactive tables.';\n",
              "        element.innerHTML = '';\n",
              "        dataTable['output_type'] = 'display_data';\n",
              "        await google.colab.output.renderOutput(dataTable, element);\n",
              "        const docLink = document.createElement('div');\n",
              "        docLink.innerHTML = docLinkHtml;\n",
              "        element.appendChild(docLink);\n",
              "      }\n",
              "    </script>\n",
              "  </div>\n",
              "\n",
              "\n",
              "<div id=\"df-8c5a5653-5aec-43d6-9b5f-b491911d2094\">\n",
              "  <button class=\"colab-df-quickchart\" onclick=\"quickchart('df-8c5a5653-5aec-43d6-9b5f-b491911d2094')\"\n",
              "            title=\"Suggest charts\"\n",
              "            style=\"display:none;\">\n",
              "\n",
              "<svg xmlns=\"http://www.w3.org/2000/svg\" height=\"24px\"viewBox=\"0 0 24 24\"\n",
              "     width=\"24px\">\n",
              "    <g>\n",
              "        <path d=\"M19 3H5c-1.1 0-2 .9-2 2v14c0 1.1.9 2 2 2h14c1.1 0 2-.9 2-2V5c0-1.1-.9-2-2-2zM9 17H7v-7h2v7zm4 0h-2V7h2v10zm4 0h-2v-4h2v4z\"/>\n",
              "    </g>\n",
              "</svg>\n",
              "  </button>\n",
              "\n",
              "<style>\n",
              "  .colab-df-quickchart {\n",
              "      --bg-color: #E8F0FE;\n",
              "      --fill-color: #1967D2;\n",
              "      --hover-bg-color: #E2EBFA;\n",
              "      --hover-fill-color: #174EA6;\n",
              "      --disabled-fill-color: #AAA;\n",
              "      --disabled-bg-color: #DDD;\n",
              "  }\n",
              "\n",
              "  [theme=dark] .colab-df-quickchart {\n",
              "      --bg-color: #3B4455;\n",
              "      --fill-color: #D2E3FC;\n",
              "      --hover-bg-color: #434B5C;\n",
              "      --hover-fill-color: #FFFFFF;\n",
              "      --disabled-bg-color: #3B4455;\n",
              "      --disabled-fill-color: #666;\n",
              "  }\n",
              "\n",
              "  .colab-df-quickchart {\n",
              "    background-color: var(--bg-color);\n",
              "    border: none;\n",
              "    border-radius: 50%;\n",
              "    cursor: pointer;\n",
              "    display: none;\n",
              "    fill: var(--fill-color);\n",
              "    height: 32px;\n",
              "    padding: 0;\n",
              "    width: 32px;\n",
              "  }\n",
              "\n",
              "  .colab-df-quickchart:hover {\n",
              "    background-color: var(--hover-bg-color);\n",
              "    box-shadow: 0 1px 2px rgba(60, 64, 67, 0.3), 0 1px 3px 1px rgba(60, 64, 67, 0.15);\n",
              "    fill: var(--button-hover-fill-color);\n",
              "  }\n",
              "\n",
              "  .colab-df-quickchart-complete:disabled,\n",
              "  .colab-df-quickchart-complete:disabled:hover {\n",
              "    background-color: var(--disabled-bg-color);\n",
              "    fill: var(--disabled-fill-color);\n",
              "    box-shadow: none;\n",
              "  }\n",
              "\n",
              "  .colab-df-spinner {\n",
              "    border: 2px solid var(--fill-color);\n",
              "    border-color: transparent;\n",
              "    border-bottom-color: var(--fill-color);\n",
              "    animation:\n",
              "      spin 1s steps(1) infinite;\n",
              "  }\n",
              "\n",
              "  @keyframes spin {\n",
              "    0% {\n",
              "      border-color: transparent;\n",
              "      border-bottom-color: var(--fill-color);\n",
              "      border-left-color: var(--fill-color);\n",
              "    }\n",
              "    20% {\n",
              "      border-color: transparent;\n",
              "      border-left-color: var(--fill-color);\n",
              "      border-top-color: var(--fill-color);\n",
              "    }\n",
              "    30% {\n",
              "      border-color: transparent;\n",
              "      border-left-color: var(--fill-color);\n",
              "      border-top-color: var(--fill-color);\n",
              "      border-right-color: var(--fill-color);\n",
              "    }\n",
              "    40% {\n",
              "      border-color: transparent;\n",
              "      border-right-color: var(--fill-color);\n",
              "      border-top-color: var(--fill-color);\n",
              "    }\n",
              "    60% {\n",
              "      border-color: transparent;\n",
              "      border-right-color: var(--fill-color);\n",
              "    }\n",
              "    80% {\n",
              "      border-color: transparent;\n",
              "      border-right-color: var(--fill-color);\n",
              "      border-bottom-color: var(--fill-color);\n",
              "    }\n",
              "    90% {\n",
              "      border-color: transparent;\n",
              "      border-bottom-color: var(--fill-color);\n",
              "    }\n",
              "  }\n",
              "</style>\n",
              "\n",
              "  <script>\n",
              "    async function quickchart(key) {\n",
              "      const quickchartButtonEl =\n",
              "        document.querySelector('#' + key + ' button');\n",
              "      quickchartButtonEl.disabled = true;  // To prevent multiple clicks.\n",
              "      quickchartButtonEl.classList.add('colab-df-spinner');\n",
              "      try {\n",
              "        const charts = await google.colab.kernel.invokeFunction(\n",
              "            'suggestCharts', [key], {});\n",
              "      } catch (error) {\n",
              "        console.error('Error during call to suggestCharts:', error);\n",
              "      }\n",
              "      quickchartButtonEl.classList.remove('colab-df-spinner');\n",
              "      quickchartButtonEl.classList.add('colab-df-quickchart-complete');\n",
              "    }\n",
              "    (() => {\n",
              "      let quickchartButtonEl =\n",
              "        document.querySelector('#df-8c5a5653-5aec-43d6-9b5f-b491911d2094 button');\n",
              "      quickchartButtonEl.style.display =\n",
              "        google.colab.kernel.accessAllowed ? 'block' : 'none';\n",
              "    })();\n",
              "  </script>\n",
              "</div>\n",
              "\n",
              "  <div id=\"id_13b3cad7-a883-4729-8105-7c11b999ca33\">\n",
              "    <style>\n",
              "      .colab-df-generate {\n",
              "        background-color: #E8F0FE;\n",
              "        border: none;\n",
              "        border-radius: 50%;\n",
              "        cursor: pointer;\n",
              "        display: none;\n",
              "        fill: #1967D2;\n",
              "        height: 32px;\n",
              "        padding: 0 0 0 0;\n",
              "        width: 32px;\n",
              "      }\n",
              "\n",
              "      .colab-df-generate:hover {\n",
              "        background-color: #E2EBFA;\n",
              "        box-shadow: 0px 1px 2px rgba(60, 64, 67, 0.3), 0px 1px 3px 1px rgba(60, 64, 67, 0.15);\n",
              "        fill: #174EA6;\n",
              "      }\n",
              "\n",
              "      [theme=dark] .colab-df-generate {\n",
              "        background-color: #3B4455;\n",
              "        fill: #D2E3FC;\n",
              "      }\n",
              "\n",
              "      [theme=dark] .colab-df-generate:hover {\n",
              "        background-color: #434B5C;\n",
              "        box-shadow: 0px 1px 3px 1px rgba(0, 0, 0, 0.15);\n",
              "        filter: drop-shadow(0px 1px 2px rgba(0, 0, 0, 0.3));\n",
              "        fill: #FFFFFF;\n",
              "      }\n",
              "    </style>\n",
              "    <button class=\"colab-df-generate\" onclick=\"generateWithVariable('corr_matrix')\"\n",
              "            title=\"Generate code using this dataframe.\"\n",
              "            style=\"display:none;\">\n",
              "\n",
              "  <svg xmlns=\"http://www.w3.org/2000/svg\" height=\"24px\"viewBox=\"0 0 24 24\"\n",
              "       width=\"24px\">\n",
              "    <path d=\"M7,19H8.4L18.45,9,17,7.55,7,17.6ZM5,21V16.75L18.45,3.32a2,2,0,0,1,2.83,0l1.4,1.43a1.91,1.91,0,0,1,.58,1.4,1.91,1.91,0,0,1-.58,1.4L9.25,21ZM18.45,9,17,7.55Zm-12,3A5.31,5.31,0,0,0,4.9,8.1,5.31,5.31,0,0,0,1,6.5,5.31,5.31,0,0,0,4.9,4.9,5.31,5.31,0,0,0,6.5,1,5.31,5.31,0,0,0,8.1,4.9,5.31,5.31,0,0,0,12,6.5,5.46,5.46,0,0,0,6.5,12Z\"/>\n",
              "  </svg>\n",
              "    </button>\n",
              "    <script>\n",
              "      (() => {\n",
              "      const buttonEl =\n",
              "        document.querySelector('#id_13b3cad7-a883-4729-8105-7c11b999ca33 button.colab-df-generate');\n",
              "      buttonEl.style.display =\n",
              "        google.colab.kernel.accessAllowed ? 'block' : 'none';\n",
              "\n",
              "      buttonEl.onclick = () => {\n",
              "        google.colab.notebook.generateWithVariable('corr_matrix');\n",
              "      }\n",
              "      })();\n",
              "    </script>\n",
              "  </div>\n",
              "\n",
              "    </div>\n",
              "  </div>\n"
            ],
            "application/vnd.google.colaboratory.intrinsic+json": {
              "type": "dataframe",
              "variable_name": "corr_matrix",
              "summary": "{\n  \"name\": \"corr_matrix\",\n  \"rows\": 7,\n  \"fields\": [\n    {\n      \"column\": \"idade\",\n      \"properties\": {\n        \"dtype\": \"number\",\n        \"std\": 0.34091668042794543,\n        \"min\": 0.0667262403131605,\n        \"max\": 1.0,\n        \"num_unique_values\": 7,\n        \"samples\": [\n          1.0,\n          0.0667262403131605,\n          0.15720415257368955\n        ],\n        \"semantic_type\": \"\",\n        \"description\": \"\"\n      }\n    },\n    {\n      \"column\": \"g\\u00eanero\",\n      \"properties\": {\n        \"dtype\": \"number\",\n        \"std\": 0.3781479857547428,\n        \"min\": -0.11357869882625146,\n        \"max\": 1.0,\n        \"num_unique_values\": 7,\n        \"samples\": [\n          0.0667262403131605,\n          1.0,\n          -0.09880827368099378\n        ],\n        \"semantic_type\": \"\",\n        \"description\": \"\"\n      }\n    },\n    {\n      \"column\": \"imc\",\n      \"properties\": {\n        \"dtype\": \"number\",\n        \"std\": 0.3597007364881218,\n        \"min\": -0.04645800230005379,\n        \"max\": 1.0,\n        \"num_unique_values\": 7,\n        \"samples\": [\n          0.2579923679603905,\n          0.21579807685001984,\n          -0.004195998952594962\n        ],\n        \"semantic_type\": \"\",\n        \"description\": \"\"\n      }\n    },\n    {\n      \"column\": \"filhos\",\n      \"properties\": {\n        \"dtype\": \"number\",\n        \"std\": 0.39791634802615694,\n        \"min\": -0.11490340864506911,\n        \"max\": 1.0,\n        \"num_unique_values\": 7,\n        \"samples\": [\n          0.08100696577085763,\n          -0.11357869882625146,\n          0.01991113629506064\n        ],\n        \"semantic_type\": \"\",\n        \"description\": \"\"\n      }\n    },\n    {\n      \"column\": \"fumante\",\n      \"properties\": {\n        \"dtype\": \"number\",\n        \"std\": 0.36357719132404753,\n        \"min\": -0.11490340864506911,\n        \"max\": 1.0,\n        \"num_unique_values\": 7,\n        \"samples\": [\n          0.10444051909722155,\n          0.09063998387778664,\n          0.14894433232050652\n        ],\n        \"semantic_type\": \"\",\n        \"description\": \"\"\n      }\n    },\n    {\n      \"column\": \"regi\\u00e3o\",\n      \"properties\": {\n        \"dtype\": \"number\",\n        \"std\": 0.36692974134808704,\n        \"min\": -0.09880827368099378,\n        \"max\": 1.0,\n        \"num_unique_values\": 7,\n        \"samples\": [\n          0.15720415257368955,\n          -0.09880827368099378,\n          1.0\n        ],\n        \"semantic_type\": \"\",\n        \"description\": \"\"\n      }\n    },\n    {\n      \"column\": \"encargos\",\n      \"properties\": {\n        \"dtype\": \"number\",\n        \"std\": 0.27198765533991925,\n        \"min\": 0.19543096659872883,\n        \"max\": 1.0,\n        \"num_unique_values\": 7,\n        \"samples\": [\n          0.5133110912488199,\n          0.220846214294541,\n          0.19543096659872883\n        ],\n        \"semantic_type\": \"\",\n        \"description\": \"\"\n      }\n    }\n  ]\n}"
            }
          },
          "metadata": {},
          "execution_count": 45
        }
      ]
    },
    {
      "cell_type": "markdown",
      "source": [
        "**Percebemos acima que as variáveis que mais se correlacionam com os \"encargos\" são \"idade,imc,filhos e fumante\", as variáveis de \"gênero e região\" possuem baixa correlacão (média de 20% somente)**"
      ],
      "metadata": {
        "id": "kAr3C0Xk5Z4_"
      }
    },
    {
      "cell_type": "markdown",
      "source": [
        "Vamos dividir nosso dataframe entre treino e teste!"
      ],
      "metadata": {
        "id": "TdQVav33tKF3"
      }
    },
    {
      "cell_type": "code",
      "source": [
        "from sklearn.model_selection import train_test_split\n",
        "\n",
        "df = df.dropna() #retirando as NaN geradas acima\n",
        "\n",
        "x = df[['fumante','idade','imc','filhos']] #selecionamos as variáveis que mais se correlacionam com nosso target!\n",
        "y = df['encargos'] #separando target\n",
        "\n",
        "x_train, x_test, y_train, y_test = train_test_split(x,y,test_size=0.2,random_state=42)"
      ],
      "metadata": {
        "id": "hfYjDi3NtWv4"
      },
      "execution_count": 46,
      "outputs": []
    },
    {
      "cell_type": "code",
      "source": [
        "x_train.shape"
      ],
      "metadata": {
        "colab": {
          "base_uri": "https://localhost:8080/"
        },
        "id": "eU9KdmwXu_Lq",
        "outputId": "55de06b1-ffb1-4a8d-e66f-ecfbf23ad549"
      },
      "execution_count": 47,
      "outputs": [
        {
          "output_type": "execute_result",
          "data": {
            "text/plain": [
              "(127, 4)"
            ]
          },
          "metadata": {},
          "execution_count": 47
        }
      ]
    },
    {
      "cell_type": "code",
      "source": [
        "x_test.shape"
      ],
      "metadata": {
        "colab": {
          "base_uri": "https://localhost:8080/"
        },
        "id": "idjGUqW5u_5x",
        "outputId": "4c99d348-e778-4d7a-aa7e-6ec932586a7b"
      },
      "execution_count": 48,
      "outputs": [
        {
          "output_type": "execute_result",
          "data": {
            "text/plain": [
              "(32, 4)"
            ]
          },
          "metadata": {},
          "execution_count": 48
        }
      ]
    },
    {
      "cell_type": "code",
      "source": [
        "y_test.shape"
      ],
      "metadata": {
        "colab": {
          "base_uri": "https://localhost:8080/"
        },
        "id": "aTRYv1yix4Yd",
        "outputId": "674a33c5-bbcb-4eb4-88c5-1f02897bca40"
      },
      "execution_count": 49,
      "outputs": [
        {
          "output_type": "execute_result",
          "data": {
            "text/plain": [
              "(32,)"
            ]
          },
          "metadata": {},
          "execution_count": 49
        }
      ]
    },
    {
      "cell_type": "markdown",
      "source": [
        "# Criando nosso modelo de Regressão Linear !"
      ],
      "metadata": {
        "id": "B5cZ0aGZvKDU"
      }
    },
    {
      "cell_type": "markdown",
      "source": [
        "# Vamos testar validação cruzada!"
      ],
      "metadata": {
        "id": "fzdPzNp0Vpo7"
      }
    },
    {
      "cell_type": "markdown",
      "source": [
        "Linear Regression:"
      ],
      "metadata": {
        "id": "blypmH3T6CkV"
      }
    },
    {
      "cell_type": "code",
      "source": [
        "from sklearn.linear_model import LinearRegression\n",
        "from sklearn.model_selection import cross_val_score\n",
        "\n",
        "# Criar um modelo de regressão linear\n",
        "model = LinearRegression()\n",
        "\n",
        "# Realizar a validação cruzada com 5 folds\n",
        "scores = cross_val_score(model, x, y, cv=5, scoring='neg_mean_squared_error')\n",
        "\n",
        "# Exibir os resultados\n",
        "print(\"Scores de MSE:\", scores*(-1))\n",
        "print(\"Média de MSE:\", np.mean(scores)*(-1))\n",
        "\n",
        "# Realizar a validação cruzada com 5 folds para o R2 score\n",
        "r2_scores = cross_val_score(model, x, y, cv=5, scoring='r2')\n",
        "print(\"Scores de R2:\", r2_scores)\n",
        "print(\"Média de R2:\", np.mean(r2_scores))"
      ],
      "metadata": {
        "colab": {
          "base_uri": "https://localhost:8080/"
        },
        "id": "8DAR8I0OP6EJ",
        "outputId": "97d261bc-3aa0-42e6-a999-549acba138fc"
      },
      "execution_count": 50,
      "outputs": [
        {
          "output_type": "stream",
          "name": "stdout",
          "text": [
            "Scores de MSE: [13354887.54495714  7572778.35848231  6032241.7561213   3382060.68100542\n",
            "  4391424.46120988]\n",
            "Média de MSE: 6946678.560355211\n",
            "Scores de R2: [0.50166125 0.68299357 0.51658475 0.55931442 0.56816377]\n",
            "Média de R2: 0.5657435533019852\n"
          ]
        }
      ]
    },
    {
      "cell_type": "markdown",
      "source": [
        "**Nosso R2 médio ficou = 0.56**"
      ],
      "metadata": {
        "id": "mg_ECAgZ6Elu"
      }
    },
    {
      "cell_type": "markdown",
      "source": [
        "Vamos testar agora o modelo de Arvore de Decisão:"
      ],
      "metadata": {
        "id": "NVDU2LNaV8DR"
      }
    },
    {
      "cell_type": "code",
      "source": [
        "from sklearn.tree import DecisionTreeRegressor\n",
        "\n",
        "# Criar um modelo de regressão linear\n",
        "model = DecisionTreeRegressor()\n",
        "\n",
        "# Realizar a validação cruzada com 5 folds\n",
        "scores = cross_val_score(model, x, y, cv=5, scoring='neg_mean_squared_error')\n",
        "\n",
        "# Exibir os resultados\n",
        "print(\"Scores de MSE:\", scores*(-1))\n",
        "print(\"Média de MSE:\", np.mean(scores)*(-1))\n",
        "\n",
        "# Realizar a validação cruzada com 5 folds para o R2 score\n",
        "r2_scores = cross_val_score(model, x, y, cv=5, scoring='r2')\n",
        "print(\"Scores de R2:\", r2_scores)\n",
        "print(\"Média de R2:\", np.mean(r2_scores))"
      ],
      "metadata": {
        "colab": {
          "base_uri": "https://localhost:8080/"
        },
        "id": "GIwsrv0zTlzt",
        "outputId": "9c48ba80-79a3-4ff6-c082-0a2298258b18"
      },
      "execution_count": 51,
      "outputs": [
        {
          "output_type": "stream",
          "name": "stdout",
          "text": [
            "Scores de MSE: [20414441.100025   10039071.86162187  5715079.15469062  7081664.16103125\n",
            " 12724209.91219033]\n",
            "Média de MSE: 11194893.237911817\n",
            "Scores de R2: [ 0.30593005  0.63232308  0.49440688  0.18449669 -0.19181922]\n",
            "Média de R2: 0.285067495164148\n"
          ]
        }
      ]
    },
    {
      "cell_type": "markdown",
      "source": [
        "**Nosso R2Score ficou bem abaixo, ficando = 0.285 :/**"
      ],
      "metadata": {
        "id": "WDnoiW0wWXBI"
      }
    },
    {
      "cell_type": "markdown",
      "source": [
        "**Vamos testar com RandomForest !**"
      ],
      "metadata": {
        "id": "u8tRtR3vWfH6"
      }
    },
    {
      "cell_type": "code",
      "source": [
        "from sklearn.ensemble import RandomForestRegressor\n",
        "\n",
        "\n",
        "# Modelo de Random Forest\n",
        "model = RandomForestRegressor()\n",
        "\n",
        "# Realizar a validação cruzada com 5 folds para o MSE\n",
        "mse_scores = cross_val_score(model, x, y, cv=5, scoring='neg_mean_squared_error')\n",
        "mse_scores = -mse_scores  # Convertendo para valores positivos\n",
        "print(\"Scores de MSE:\", mse_scores)\n",
        "print(\"Média de MSE:\", np.mean(mse_scores))\n",
        "\n",
        "# Realizar a validação cruzada com 5 folds para o R2 score\n",
        "r2_scores = cross_val_score(model, x, y, cv=5, scoring='r2')\n",
        "print(\"Scores de R2:\", r2_scores)\n",
        "print(\"Média de R2:\", np.mean(r2_scores))\n"
      ],
      "metadata": {
        "colab": {
          "base_uri": "https://localhost:8080/"
        },
        "id": "qko2lLcMUETZ",
        "outputId": "b68f247a-6d84-4d6f-d697-c04a03df77db"
      },
      "execution_count": 52,
      "outputs": [
        {
          "output_type": "stream",
          "name": "stdout",
          "text": [
            "Scores de MSE: [15257624.901791    8813843.72328955  4466387.60720826  2478188.82736417\n",
            "  5797243.52119977]\n",
            "Média de MSE: 7362657.716170549\n",
            "Scores de R2: [0.40863133 0.62084602 0.62463324 0.67306629 0.41609027]\n",
            "Média de R2: 0.5486534308409159\n"
          ]
        }
      ]
    },
    {
      "cell_type": "markdown",
      "source": [
        "**Random Forest já melhorou um pouco, R2 = 0.548 !**"
      ],
      "metadata": {
        "id": "5Ih9EiOZW_2r"
      }
    },
    {
      "cell_type": "markdown",
      "source": [
        "# Vamos aplicar validação cruzada comparando os 3 modelos!"
      ],
      "metadata": {
        "id": "tEcu75uBiEqN"
      }
    },
    {
      "cell_type": "code",
      "source": [
        "def AplicaValidacaoCruzada(x_axis, y_axis):\n",
        "  # Linear Models.\n",
        "  from sklearn.linear_model import LinearRegression\n",
        "  from sklearn.tree import DecisionTreeRegressor\n",
        "  from sklearn.ensemble import RandomForestRegressor\n",
        "\n",
        "  # Cross-Validation models.\n",
        "  from sklearn.model_selection import cross_val_score\n",
        "  from sklearn.model_selection import KFold\n",
        "\n",
        "  # Configuração de KFold.\n",
        "  kfold  = KFold(n_splits=5, shuffle=True, random_state=42)\n",
        "\n",
        "  # Axis\n",
        "  x = x_axis\n",
        "  y = y_axis\n",
        "\n",
        "  # Criando os modelos\n",
        "\n",
        "  # LinearRegression\n",
        "  linear_regression = LinearRegression()\n",
        "  linear_regression.fit(x_train, y_train)\n",
        "\n",
        "\n",
        "  # DecisionTree\n",
        "  decision_tree = DecisionTreeRegressor()\n",
        "  decision_tree.fit(x_train, y_train)\n",
        "\n",
        "\n",
        "  # RandomForest\n",
        "  rf = RandomForestRegressor(random_state=42)\n",
        "  rf.fit(x_train, y_train)\n",
        "\n",
        "\n",
        "  linear_result = cross_val_score(linear_regression, x, y, cv = kfold,scoring='r2')\n",
        "  decisiontree_result = cross_val_score(decision_tree, x, y, cv = kfold,scoring='r2')\n",
        "  rf_result = cross_val_score(rf, x, y, cv = kfold,scoring='r2')\n",
        "\n",
        "  # Cria um dicionário com os modelos lineares\n",
        "  dic_models = {\n",
        "    \"Linear Regression\": linear_result.mean(),\n",
        "    \"Decision Tree\": decisiontree_result.mean(),\n",
        "    \"Random Forest\": rf_result.mean(),\n",
        "  }\n",
        "  # Seleciona o melhor modelo\n",
        "  melhorModelo = max(dic_models, key=dic_models.get)\n",
        "\n",
        "  print(\"LinearRegression (R^2): {0}\\nDecisionTree (R^2): {1}\\nRandom Forest (R^2): {2}\".format(linear_result.mean(), decisiontree_result.mean(), rf_result.mean()))\n",
        "  print(\"O melhor modelo é : {0} com o valor: {1}\".format(melhorModelo, dic_models[melhorModelo]))"
      ],
      "metadata": {
        "id": "9Sz7lre7dvTR"
      },
      "execution_count": 53,
      "outputs": []
    },
    {
      "cell_type": "markdown",
      "source": [],
      "metadata": {
        "id": "_yA9s0QZgDcP"
      }
    },
    {
      "cell_type": "code",
      "source": [
        "AplicaValidacaoCruzada(x,y)"
      ],
      "metadata": {
        "colab": {
          "base_uri": "https://localhost:8080/"
        },
        "id": "31aU3-kkekmn",
        "outputId": "31d84788-aed6-49e7-da03-4a7df5a106e3"
      },
      "execution_count": 54,
      "outputs": [
        {
          "output_type": "stream",
          "name": "stdout",
          "text": [
            "LinearRegression (R^2): 0.6018952198279975\n",
            "DecisionTree (R^2): 0.1683526420847983\n",
            "Random Forest (R^2): 0.5244276798870553\n",
            "O melhor modelo é : Linear Regression com o valor: 0.6018952198279975\n"
          ]
        }
      ]
    },
    {
      "cell_type": "markdown",
      "source": [
        "**Nosso Resultado com a validacão cruzada comparando os 3 modelos e com Kfolds = 5, nos trouxe que o melhor modelo é o Linear Regression!**"
      ],
      "metadata": {
        "id": "h-2cQmPF8oIh"
      }
    },
    {
      "cell_type": "markdown",
      "source": [
        "Vamos agora fazer o predict do modelo com nosso dados de teste, utilizando o modelo vencedor que seria o Linear Regression!"
      ],
      "metadata": {
        "id": "v_eNc7YS18R3"
      }
    },
    {
      "cell_type": "code",
      "source": [
        "from sklearn.linear_model import LinearRegression\n",
        "\n",
        "\n",
        "# Criando e treinando o modelo de regressão linear\n",
        "modelo = LinearRegression()\n",
        "modelo.fit(x_train, y_train)\n",
        "\n",
        "# Fazendo previsões no conjunto de teste\n",
        "previsoes = modelo.predict(x_test)\n",
        "\n",
        "previsoes"
      ],
      "metadata": {
        "colab": {
          "base_uri": "https://localhost:8080/"
        },
        "id": "63_iydLM-GW4",
        "outputId": "bbe52184-3936-46d6-ec31-a12e0731ea40"
      },
      "execution_count": 55,
      "outputs": [
        {
          "output_type": "execute_result",
          "data": {
            "text/plain": [
              "array([26731.60365155, 31632.19467014, 34190.042582  , 27369.5545888 ,\n",
              "       28653.64557624, 30648.77001268, 32301.49425079, 30852.35778936,\n",
              "       30480.90846702, 27271.50816083, 30404.95625654, 37558.01819092,\n",
              "       38103.66686221, 32105.43632451, 31024.80200637, 26889.68547258,\n",
              "       29736.35524132, 29940.92375613, 29582.10078655, 25869.50294022,\n",
              "       29622.43003823, 33133.79762753, 27302.239701  , 26652.39153286,\n",
              "       33973.83156519, 31470.0014581 , 35174.73326293, 33449.11163883,\n",
              "       30530.11505477, 33405.10919886, 31678.55462977, 28425.07042141])"
            ]
          },
          "metadata": {},
          "execution_count": 55
        }
      ]
    },
    {
      "cell_type": "code",
      "source": [
        "from sklearn.metrics import mean_squared_error, mean_absolute_error, r2_score\n",
        "erro_medio_quadratico = mean_squared_error(y_test, previsoes)\n",
        "erro_absoluto_medio = mean_absolute_error(y_test, previsoes)\n",
        "r_quadrado = r2_score(y_test, previsoes)\n",
        "\n",
        "print(f'Erro Médio Quadrático: {erro_medio_quadratico}')\n",
        "print(f'Erro Absoluto Médio: {erro_absoluto_medio}')\n",
        "print(f'R² (coeficiente de determinação): {r_quadrado}')\n",
        "\n",
        "### Plotando os dados reais versus os dados previstos\n",
        "plt.scatter(y_test, previsoes, label='Real vs. Previsto', color='blue')  # Aqui vamos plotar os valores reais vs. previstos\n",
        "plt.plot([y_test.min(), y_test.max()], [y_test.min(), y_test.max()], 'k--', lw=2)  # Linha diagonal para representar a igualdade\n",
        "plt.xlabel('Valores Reais')\n",
        "plt.ylabel('Valores Previstos')\n",
        "plt.title('Valores Reais vs Valores Previstos')\n",
        "plt.legend()\n",
        "plt.show()"
      ],
      "metadata": {
        "colab": {
          "base_uri": "https://localhost:8080/",
          "height": 524
        },
        "id": "GQYToj5t-OWz",
        "outputId": "dcf2e4f5-71bd-43b0-dc69-8b957d5cd7a1"
      },
      "execution_count": 56,
      "outputs": [
        {
          "output_type": "stream",
          "name": "stdout",
          "text": [
            "Erro Médio Quadrático: 3681978.8342297385\n",
            "Erro Absoluto Médio: 1458.0682095907182\n",
            "R² (coeficiente de determinação): 0.7560882712268375\n"
          ]
        },
        {
          "output_type": "display_data",
          "data": {
            "text/plain": [
              "<Figure size 640x480 with 1 Axes>"
            ],
            "image/png": "[encoded data removed]"
          },
          "metadata": {}
        }
      ]
    },
    {
      "cell_type": "markdown",
      "source": [
        "**Resultamos em um R2Score = 0.756 !**\n",
        "\n"
      ],
      "metadata": {
        "id": "kjD_4ilTVlXY"
      }
    }
  ]
}